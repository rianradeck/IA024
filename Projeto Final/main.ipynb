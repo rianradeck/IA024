{
 "cells": [
  {
   "cell_type": "code",
   "execution_count": 98,
   "metadata": {},
   "outputs": [],
   "source": [
    "# Imports and Secrets\n",
    "import os\n",
    "import numpy as np\n",
    "\n",
    "from datasets import load_dataset, Dataset\n",
    "from dotenv import load_dotenv\n",
    "\n",
    "from ragas.metrics import (\n",
    "    answer_relevancy,\n",
    "    faithfulness,\n",
    "    context_recall,\n",
    "    context_precision,\n",
    ")\n",
    "from ragas import evaluate\n",
    "\n",
    "from langchain import hub\n",
    "from langchain_chroma import Chroma\n",
    "from langchain_community.document_loaders import WikipediaLoader\n",
    "from langchain_core.output_parsers import StrOutputParser\n",
    "from langchain_core.runnables import RunnablePassthrough\n",
    "from langchain_openai import ChatOpenAI, OpenAIEmbeddings\n",
    "from langchain_text_splitters import RecursiveCharacterTextSplitter\n",
    "\n",
    "load_dotenv()\n",
    "\n",
    "MAX_PAGES=10"
   ]
  },
  {
   "cell_type": "markdown",
   "metadata": {},
   "source": [
    "## Datasets"
   ]
  },
  {
   "cell_type": "code",
   "execution_count": 99,
   "metadata": {},
   "outputs": [
    {
     "name": "stderr",
     "output_type": "stream",
     "text": [
      "e:\\Unicamp\\IA024\\.venv\\lib\\site-packages\\datasets\\load.py:1486: FutureWarning: The repository for explodinggradients/amnesty_qa contains custom code which must be executed to correctly load the dataset. You can inspect the repository content at https://hf.co/datasets/explodinggradients/amnesty_qa\n",
      "You can avoid this message in future by passing the argument `trust_remote_code=True`.\n",
      "Passing `trust_remote_code=True` will be mandatory to load this dataset from the next major release of `datasets`.\n",
      "  warnings.warn(\n",
      "Repo card metadata block was not found. Setting CardData to empty.\n"
     ]
    }
   ],
   "source": [
    "# loading the V2 dataset\n",
    "amnesty_qa = load_dataset(\"explodinggradients/amnesty_qa\", \"english_v2\")\n",
    "# loading the WikiEval dataset\n",
    "wikieval = load_dataset(\"explodinggradients/WikiEval\")"
   ]
  },
  {
   "cell_type": "markdown",
   "metadata": {},
   "source": [
    "## Creating the Vector Index"
   ]
  },
  {
   "cell_type": "code",
   "execution_count": 100,
   "metadata": {},
   "outputs": [],
   "source": [
    "persist_directory = 'db'\n",
    "force_rebuild = True\n",
    "\n",
    "if not os.path.exists(f\"./{persist_directory}\") or force_rebuild:\n",
    "    pages_limit = MAX_PAGES\n",
    "\n",
    "    all_docs = None\n",
    "    for idx, sample in enumerate(wikieval[\"train\"]):\n",
    "        if idx >= pages_limit:\n",
    "            break\n",
    "        wikipedia_page = sample[\"source\"]\n",
    "        \n",
    "        loader = WikipediaLoader(\n",
    "            query=wikipedia_page,\n",
    "            load_max_docs=1,\n",
    "            doc_content_chars_max=100000\n",
    "        )\n",
    "        docs = loader.load()\n",
    "        \n",
    "        if all_docs is None:\n",
    "            all_docs = docs\n",
    "        else:\n",
    "            all_docs += docs\n",
    "\n",
    "    text_splitter = RecursiveCharacterTextSplitter(chunk_size=1000, chunk_overlap=200)\n",
    "    splits = text_splitter.split_documents(all_docs)\n",
    "\n",
    "    vectorstore = Chroma.from_documents(documents=splits, embedding=OpenAIEmbeddings(), persist_directory=persist_directory)\n",
    "else:\n",
    "    vectorstore = Chroma(persist_directory=persist_directory, embedding_function=OpenAIEmbeddings())"
   ]
  },
  {
   "cell_type": "code",
   "execution_count": 101,
   "metadata": {},
   "outputs": [
    {
     "name": "stdout",
     "output_type": "stream",
     "text": [
      "10\n",
      "58797\n"
     ]
    },
    {
     "data": {
      "text/plain": [
       "'MedMen Enterprises was a United States-based cannabis company. At its peak, it had operations in Cal'"
      ]
     },
     "execution_count": 101,
     "metadata": {},
     "output_type": "execute_result"
    }
   ],
   "source": [
    "print(len(all_docs))\n",
    "docs_sz = np.array([len(docs.page_content) for docs in all_docs])\n",
    "print(docs_sz.max())\n",
    "all_docs[2].page_content[:100]"
   ]
  },
  {
   "cell_type": "markdown",
   "metadata": {},
   "source": [
    "## Naive RAG"
   ]
  },
  {
   "cell_type": "code",
   "execution_count": 102,
   "metadata": {},
   "outputs": [],
   "source": [
    "llm = ChatOpenAI(model=\"gpt-3.5-turbo-0125\")\n",
    "# Retrieve and generate using the relevant snippets of the blog.\n",
    "retriever = vectorstore.as_retriever()\n",
    "prompt = hub.pull(\"rlm/rag-prompt\")\n",
    "\n",
    "\n",
    "def format_docs(docs):\n",
    "    return \"\\n\\n\".join(doc.page_content for doc in docs)\n",
    "\n",
    "\n",
    "rag_chain_from_docs = (\n",
    "    RunnablePassthrough.assign(context=(lambda x: format_docs(x[\"context\"])))\n",
    "    | prompt\n",
    "    | llm\n",
    "    | StrOutputParser()\n",
    ")\n",
    "\n",
    "retrieve_docs = (lambda x: x[\"question\"]) | retriever\n",
    "\n",
    "chain = RunnablePassthrough.assign(context=retrieve_docs).assign(\n",
    "    answer=rag_chain_from_docs\n",
    ")\n",
    "\n",
    "# response = chain.invoke({\"question\": \"Who directed the film Oppenheimer and who stars as J. Robert Oppenheimer in the film?\"})\n",
    "\n",
    "def naive_rag_pipeline(question, chain=chain):\n",
    "    response = chain.invoke({\"question\": question})\n",
    "    \n",
    "    build_context = []\n",
    "    for ctx in response[\"context\"]:\n",
    "        build_context.append(ctx.page_content)\n",
    "\n",
    "    return response[\"question\"], build_context, response[\"answer\"]"
   ]
  },
  {
   "cell_type": "code",
   "execution_count": 103,
   "metadata": {},
   "outputs": [
    {
     "name": "stdout",
     "output_type": "stream",
     "text": [
      "{'answer': 'Answer: The PSLV-C56 mission is scheduled to be launched on Sunday, 30 July 2023 at 06:30 IST / 01:00 UTC. It will be launched from the Satish Dhawan Space Centre, Sriharikota, Andhra Pradesh, India.', 'question': 'Question: When is the scheduled launch date and time for the PSLV-C56 mission, and where will it be launched from?', 'context_v1': [\"The PSLV-C56 is the 58th mission of Indian Space Research Organisation's Polar Satellite Launch Vehicle (PSLV) and the 17th flight of the PSLV-CA variant, and will be get launched from Satish Dhawan Space Centre First Launch Pad ( FLP ).\\n\\nLaunch\\nIt is Scheduled to get launched on Sunday, 30 July 2023 at 06:30 IST / 01:00 UTC from Satish Dhawan Space Centre, Sriharikota, Andhra Pradesh, India. This is a dedicated commercial mission through NSIL with DS-SAR as primary satellite and VELOX-AM as a co-passenger satellite With other 5 Satellites, All satellites from this mission belongs to Singapore.\"], 'context_v2': [\"The PSLV-C56 is the 58th mission of Indian Space Research Organisation's Polar Satellite Launch Vehicle (PSLV) and the 17th flight of the PSLV-CA variant, and will be get launched from Satish Dhawan Space Centre First Launch Pad ( FLP ).\\n\\nLaunch\\nIt is Scheduled to get launched on Sunday, 30 July 2023 at 06:30 IST / 01:00 UTC from Satish Dhawan Space Centre, Sriharikota, Andhra Pradesh, India. The Indian Space Research Organisation (ISRO) is the space agency of the Government of India. It was established in 1969 with the aim of developing space technology and conducting space research. ISRO is responsible for the country's space program, which includes satellite launches, space exploration, and the development of space-related technologies.\\n\\nISRO has achieved several significant milestones over the years. It successfully launched its first satellite, Aryabhata, in 1975.\"], 'ungrounded_answer': 'The PSLV-C56 mission is scheduled to be launched on Monday, 30 August 2023. The launch will take place from the Satish Dhawan Space Centre (SDSC) SHAR, located in Sriharikota, India.', 'source': 'PSLV-C56', 'poor_answer': \"The scheduled launch date and time for the PSLV-C56 mission have not been provided.The PSLV-C56 mission is an important space mission for India. It aims to launch a satellite into orbit to study weather patterns.'\"}\n",
      "{'answer': \"Answer: The objective of the Uzbekistan-Afghanistan-Pakistan Railway Project is to create a direct railway link between Uzbekistan and Pakistan, passing through Afghanistan's territory. This project aims to enhance trade and logistics efficiency by establishing a 573-km rail connection that would connect Tashkent, the capital of Uzbekistan, to Kabul and Peshawar, the capitals of Afghanistan and Pakistan, respectively. The implementation of this project is anticipated to strengthen trade relations between Pakistan and South Asia. The trilateral agreement signed by Pakistan, Afghanistan, and Uzbekistan aims to significantly reduce cargo delivery times between Uzbekistan and Pakistan by approximately five days. The railway route will traverse through Termez, Mazar-i-Sharif, and Logar in Afghanistan, and continue to the Kharlachi border crossing in Pakistan's northwestern Kurram district. This railway is designed to facilitate both passenger and freight services, fostering regional trade and contributing to overall economic growth in the area.\", 'question': 'Question: What is the objective of the Uzbekistan-Afghanistan-Pakistan Railway Project and how is it expected to enhance trade and logistics efficiency?', 'context_v1': [\"The Uzbekistan–Afghanistan–Pakistan Railway Project is an extensive project undertaking with the objective of creating a direct railway link between Uzbekistan and Pakistan, passing through Afghanistan's territory. This project aims to enhance trade and logistics efficiency by establishing a 573-km rail connection that would connect Tashkent, the capital of Uzbekistan, to Kabul and Peshawar, the capitals of Afghanistan and Pakistan, respectively.\\n\\nProject Details\\nThe estimated cost of the project is US$4.8 billion, and its implementation is anticipated to strengthen trade relations between Pakistan and South Asia. The trilateral agreement spanning 760 kilometers was signed by Pakistan, Afghanistan, and Uzbekistan, aiming to significantly reduce cargo delivery times between Uzbekistan and Pakistan by approximately five days.The railway route will traverse through Termez, Mazar-i-Sharif, and Logar in Afghanistan, and continue to the Kharlachi border crossing in Pakistan's northwestern Kurram district. Designed to facilitate both passenger and freight services, the railway is poised to foster regional trade and contribute to overall economic growth in the area.\"], 'context_v2': [\"The Uzbekistan–Afghanistan–Pakistan Railway Project is an extensive project undertaking with the objective of creating a direct railway link between Uzbekistan and Pakistan, passing through Afghanistan's territory. This project aims to enhance trade and logistics efficiency by establishing a 573-km rail connection that would connect Tashkent, the capital of Uzbekistan, to Kabul and Peshawar, the capitals of Afghanistan and Pakistan, respectively.\\n\\nProject Details\\nThe estimated cost of the project is US$4.8 billion, and its implementation is anticipated to strengthen trade relations between Pakistan and South Asia. The trilateral agreement spanning 760 kilometers was signed by Pakistan, Afghanistan, and Uzbekistan, aiming to significantly reduce cargo delivery times between Uzbekistan and Pakistan by approximately five days.The railway route will traverse through Termez, Mazar-i-Sharif, and Logar in Afghanistan, and continue to the Kharlachi border crossing in Pakistan's northwestern Kurram district. Designed to facilitate both passenger and freight services, the railway is poised to foster regional trade and contribute to overall economic growth in the area. It will create jobs during the construction phase and provide ongoing employment opportunities in the transportation and logistics sectors. The increased connectivity will attract investment and spur economic development in the areas surrounding the railway stations.\\n\\nOverall, the railway project is expected to have a transformative effect on the region. It will improve trade, strengthen regional cooperation, and contribute to economic growth and development in Afghanistan and Pakistan\"], 'ungrounded_answer': 'The objective of the Uzbekistan-Afghanistan-Pakistan Railway Project is to establish a direct rail link between Uzbekistan, Afghanistan, and Pakistan. This project aims to enhance regional connectivity, promote trade, and boost economic development in the participating countries. By connecting these three countries through a railway network, the project is expected to enhance trade and logistics. The railway route will traverse through Termez, Mazar-i-Sharif, and Logar in Afghanistan, and India. The implementation of this project is anticipated to strengthen trade relations between Pakistan and China.', 'source': 'Uzbekistan–Afghanistan–Pakistan Railway Project', 'poor_answer': \"The objective of the Uzbekistan-Afghanistan-Pakistan Railway Project is to establish a railway network connecting these three countries. It is expected to enhance trade and logistics efficiency by providing a more efficient and cost-effective mode of transportation for goods and people between these countries.The railway project is funded by international organizations and aims to improve transportation infrastructure in the region.'\"}\n",
      "{'answer': 'Answer: PharmaCann was founded in 2014 by Theodore Scott. Its headquarters is located in the state of Illinois.', 'question': 'Question: When was PharmaCann founded and what is its headquarters location?', 'context_v1': ['Found in 2014 by Theodore Scott, PharmaCann is an American cannabis company headquartered in the state of Illinois, with operations spanning several states. PharmaCann is one of the largest cannabis suppliers in the United States.'], 'context_v2': [\"Found in 2014 by Theodore Scott, PharmaCann is an American cannabis company headquartered in the state of Illinois, with operations spanning several states. PharmaCann is one of the largest cannabis suppliers in the United States. PharmaCann is one of the largest cannabis suppliers in the United States, providing both Medical and Recreational cannabis products in accordance with state's laws and policies. \"], 'ungrounded_answer': 'PharmaCann was founded in 2010 by Theodore Wolf. Its headquarters is located in the state of Illinois.', 'source': 'PharmaCann', 'poor_answer': \"PharmaCann was founded in 2014.PharmaCann is a leading pharmaceutical company that specializes in medical cannabis products.'\"}\n",
      "{'answer': 'Answer: Christopher Nolan directed the film Oppenheimer. Cillian Murphy stars as J. Robert Oppenheimer in the film.', 'question': 'Question: Who directed the film Oppenheimer and who stars as J. Robert Oppenheimer in the film?', 'context_v1': ['Oppenheimer is a 2023 biographical thriller film written and directed by Christopher Nolan. Based on the 2005 biography American Prometheus by Kai Bird and Martin J. Sherwin, the film chronicles the life of J. Robert Oppenheimer, a theoretical physicist who was pivotal in developing the first nuclear weapons as part of the Manhattan Project, and thereby ushering in the Atomic Age. Cillian Murphy stars as Oppenheimer, with Emily Blunt as Oppenheimer\\'s wife Katherine \"Kitty\" Oppenheimer, Matt Damon as General Leslie Groves, director of the Manhattan Project, and Robert Downey Jr. as Lewis Strauss, a senior member of the United States Atomic Energy Commission. Murphy signed on to portray Oppenheimer in October, with others in the main cast joining between November 2021 and April 2022. Pre-production was underway by January 2022, with filming taking place from February to May. '], 'context_v2': ['Oppenheimer is a 2023 biographical thriller film written and directed by Christopher Nolan. Based on the 2005 biography American Prometheus by Kai Bird and Martin J. Sherwin, the film chronicles the life of J. Robert Oppenheimer, a theoretical physicist who was pivotal in developing the first nuclear weapons as part of the Manhattan Project, and thereby ushering in the Atomic Age. Cillian Murphy stars as Oppenheimer, with Emily Blunt as Oppenheimer\\'s wife Katherine \"Kitty\" Oppenheimer, Matt Damon as General Leslie Groves, director of the Manhattan Project, and Robert Downey Jr. as Lewis Strauss, a senior member of the United States Atomic Energy Commission. The ensemble supporting cast includes Florence Pugh, Josh Hartnett, Casey Affleck, Rami Malek and Kenneth Branagh.\\nThe project was announced in September 2021 after Universal Pictures won a bidding war for Nolan\\'s screenplay. Murphy signed on to portray Oppenheimer in October, with others in the main cast joining between November 2021 and April 2022.'], 'ungrounded_answer': 'Christopher Nolan directed the film Oppenheimer. Brad Pitt stars as J. Robert Oppenheimer in the film.', 'source': 'Oppenheimer (film)', 'poor_answer': \"The film Oppenheimer is directed by Christopher Nolan.Oppenheimer is a film about the life of J. Robert Oppenheimer, a renowned physicist who played a key role in the development of the atomic bomb.'\"}\n",
      "{'answer': 'Answer: Theranostics, also known as theragnostics, is an emerging field in precision medicine that combines diagnostic and therapeutic approaches to provide the potential for personalized treatment and real-time monitoring of the effectiveness of treatments. It utilizes improvements in imaging techniques and targeted therapies to achieve this goal. Medical imaging plays a crucial role in theranostics by enabling non-invasive visualization of disease processes, identification of specific molecular targets, and monitoring treatment response. By coupling medical imaging with the development of novel radiotracers and contrast agents, theranostics offers opportunities for precise diagnosis and targeted therapy. Diagnostic-therapeutic approaches are used in theranostics, where the diagnostic method is developed simultaneously with the therapeutic intervention or serves as the method itself. This integration of diagnostics and therapeutics allows for a more personalized and effective approach to treatment.', 'question': 'Question: What is theranostics and how does it combine diagnostic and therapeutic approaches in precision medicine?', 'context_v1': [\"Theranostics, also known as theragnostics, is an emerging field in precision medicine that combines diagnostic and therapeutic approaches to provide the potential for personalized treatment and real-time monitoring of the effectiveness of treatments. Improvements in imaging techniques and targeted therapies are the basis of the field of theragnostics. For some conditions, medical imaging has enabled non-invasive visualization of disease processes, identification of specific molecular targets, and monitoring treatment response. When medical imaging is coupled with the development of novel radiotracers and contrast agents, theranostics may provide opportunities for precise diagnosis and targeted therapy.Diagnostic-therapeutic approaches are used in theranostics, where the diagnostic method is developed simultaneously with the therapeutic intervention or serves as the method itself. Techniques such as image-guided radiotherapy, FDG PET for therapy assessment, and molecular-targeted therapies guided by oncogene expression analysis exemplify the integration of diagnostics and therapeutics. Nuclear medicine has played a significant role in the development of these methods, and recent advancements in nanotechnology, specifically nanomedicine, have expanded the therapeutic potential of radiodiagnostics beyond interventional radiology.\\n\\nApplications\\nNuclear medicine\\nTheranostics originated in the field of nuclear medicine; iodine isotope 131 for the diagnostic study and treatment of thyroid cancer was one of its earliest applications. Nuclear medicine encompasses various substances, either alone or in combination, that can be used for diagnostic imaging and targeted therapy. These substances may include ligands of receptors present on the target tissue or compounds, like iodine, that are internalized by the target through metabolic processes. By utilizing these mechanisms, theranostics enables the localization of pathological tissues with imaging and the targeted destruction of these tissues using high doses of radiation.\\n\\nRadiological scope\\nContrast agents with therapeutic properties have been under development for several years, although they are not yet in clinical use as of 2021. One example is the design of contrast agents capable of releasing a chemotherapeutic agent locally at the target site, triggered by a stimulus provided by the operator. This localized approach aims to increase treatment efficacy and minimize side effects. For instance, ultrasound-based contrast media, such as microbubbles, can accumulate in hypervascularized tissues and release the active ingredient in response to ultrasound waves, thus targeting a specific area chosen by the sonographer. Another approach involves linking monoclonal antibodies (capable of targeting different molecular targets) to nanoparticles. This strategy enhances the drug's affinity and specificity towards the target and enables visualization of the treatment area, such as using superparamagnetic iron oxide particles detectable by magnetic resonance imaging. Additionally, these particles can be designed to release chemotherapy agents specifically at the site of binding, producing a local synergistic effect with antibody action. Integrating these methods with medical-nuclear techniques, which offer greater imaging sensitivity, can aid in target identification and treatment monitoring.\\n\\nImaging techniques\\nPositron emission tomography\\nPositron emission tomography (PET) imaging in theranostics provides insight into metabolic and molecular processes within the body. The PET scanner detects  photons and creates three-dimensional images that enable visualization and quantification of physiological and biochemical processes. PET imaging utilizes radiotracers that target specific molecules or processes. For example, [18F] fluorodeoxyglucose (FDG) is commonly used to assess glucose metabolism, as cancer cells exhibit increased glucose uptake. Other radiotracers target specific receptors, enzymes, or transporters, allowing the evaluation of various physiological and pathological processes.In theranostics, PET imaging plays a role in both diagnosis and treatment planning. It aids in the identification and staging of diseases, such as cancer, by visualizing the extent and metabolic activity of tumors. PET scans can also guide treatment decisions by assessing treatment response and monitoring disease progression. Additionally, PET imaging is utilized to determine the suitability of patients for targeted therapies based on specific molecular characteristics, enabling personalized treatment approaches.\\n\\nSingle-photon emission computed tomography\\nSingle-photon emission computed tomography (SPECT) is employed in theranostics, utilizing gamma rays emitted by a radiotracer to generate three-dimensional images of the body. SPECT imaging involves the injection of a radiotracer that emits single photons, which are detected by a gamma camera rotating around the patient.SPECT provides functional and anatomical information, allowing the assessment of organ structure, blood flow, and specific molecular targets. It is useful in evaluating diseases that involve altered blood flow or specific receptor expression. For example, SPECT imaging with technetium-99m (Tc-99m) radiopharmaceuticals can assess myocardial perfusion and identify areas of ischemia or infarction in patients with cardiovascular diseases.In theranostics, SPECT imaging helps in identifying disease localization, staging, and assessing the response to therapy. Moreover, SPECT imaging is employed in targeted radionuclide therapy, where the same radiotracer used for diagnostic imaging can be utilized to deliver therapeutic doses of radiation to the diseased tissue.\\n\\nMagnetic resonance imagine\\nMagnetic resonance imaging (MRI) is a non-invasive imaging technique that utilizes strong magnetic fields and radiofrequency pulses to generate detailed anatomical and functional images of the body. MRI provides excellent soft tissue contrast and is widely used in theranostics for its ability to visualize anatomical structures and assess physiological processes.In theranostics, MRI allows for the detection and characterization of tumors, assessment of tumor extent, and evaluation of treatment response. MRI can provide information on tissue perfusion, diffusion, and metabolism, aiding in the selection of appropriate therapies and monitoring their effectiveness.Advancements in MRI technology have further expanded its capabilities in theranostics. Techniques such as functional MRI (fMRI) enable the assessment of brain activation and connectivity, while diffusion-weighted imaging (DWI) provides insights into tissue microstructure. The development of molecular imaging agents, such as superparamagnetic iron oxide nanoparticles, allows for targeted imaging and tracking of specific molecular entities.\\n\\nTherapeutic approaches\\nTheranostics encompasses a range of therapeutic approaches that are designed to target and treat diseases with enhanced precision.\\n\\nTargeted drug delivery systems\\nTargeted drug delivery systems in theranostics facilitate the selective delivery of therapeutic agents to specific disease sites while minimizing off-target effects. These systems employ strategies, such as nanoparticles, liposomes, and micelles, to encapsulate drugs and enhance their stability, solubility, and bioavailability. By incorporating diagnostic components, such as imaging agents or targeting ligands, into these delivery systems, clinicians can monitor drug distribution and accumulation in real-time, ensuring effective treatment and reducing systemic toxicity. Targeted drug delivery systems hold promise in the treatment of cancer, cardiovascular diseases, and other conditions, as they allow for personalized and site-specific therapy.\\n\\nGene therapy\\nGene therapy is a therapeutic approach that involves modifying or replacing faulty genes to treat or prevent diseases.\"], 'context_v2': [\"Theranostics, also known as theragnostics, is an emerging field in precision medicine that combines diagnostic and therapeutic approaches to provide the potential for personalized treatment and real-time monitoring of the effectiveness of treatments. Improvements in imaging techniques and targeted therapies are the basis of the field of theragnostics. For some conditions, medical imaging has enabled non-invasive visualization of disease processes, identification of specific molecular targets, and monitoring treatment response. When medical imaging is coupled with the development of novel radiotracers and contrast agents, theranostics may provide opportunities for precise diagnosis and targeted therapy.Diagnostic-therapeutic approaches are used in theranostics, where the diagnostic method is developed simultaneously with the therapeutic intervention or serves as the method itself. Techniques such as image-guided radiotherapy, FDG PET for therapy assessment, and molecular-targeted therapies guided by oncogene expression analysis exemplify the integration of diagnostics and therapeutics. Nuclear medicine has played a significant role in the development of these methods, and recent advancements in nanotechnology, specifically nanomedicine, have expanded the therapeutic potential of radiodiagnostics beyond interventional radiology.\\n\\nApplications\\nNuclear medicine\\nTheranostics originated in the field of nuclear medicine; iodine isotope 131 for the diagnostic study and treatment of thyroid cancer was one of its earliest applications. Nuclear medicine encompasses various substances, either alone or in combination, that can be used for diagnostic imaging and targeted therapy. These substances may include ligands of receptors present on the target tissue or compounds, like iodine, that are internalized by the target through metabolic processes. By utilizing these mechanisms, theranostics enables the localization of pathological tissues with imaging and the targeted destruction of these tissues using high doses of radiation.\\n\\nRadiological scope\\nContrast agents with therapeutic properties have been under development for several years, although they are not yet in clinical use as of 2021. One example is the design of contrast agents capable of releasing a chemotherapeutic agent locally at the target site, triggered by a stimulus provided by the operator. This localized approach aims to increase treatment efficacy and minimize side effects. For instance, ultrasound-based contrast media, such as microbubbles, can accumulate in hypervascularized tissues and release the active ingredient in response to ultrasound waves, thus targeting a specific area chosen by the sonographer. Another approach involves linking monoclonal antibodies (capable of targeting different molecular targets) to nanoparticles. This strategy enhances the drug's affinity and specificity towards the target and enables visualization of the treatment area, such as using superparamagnetic iron oxide particles detectable by magnetic resonance imaging. Additionally, these particles can be designed to release chemotherapy agents specifically at the site of binding, producing a local synergistic effect with antibody action. Integrating these methods with medical-nuclear techniques, which offer greater imaging sensitivity, can aid in target identification and treatment monitoring.\\n\\nImaging techniques\\nPositron emission tomography\\nPositron emission tomography (PET) imaging in theranostics provides insight into metabolic and molecular processes within the body. The PET scanner detects photons and creates three-dimensional images that enable visualization and quantification of physiological and biochemical processes. PET imaging utilizes radiotracers that target specific molecules or processes. For example, [18F] fluorodeoxyglucose (FDG) is commonly used to assess glucose metabolism, as cancer cells exhibit increased glucose uptake. Other radiotracers target specific receptors, enzymes, or transporters, allowing the evaluation of various physiological and pathological processes.In theranostics, PET imaging plays a role in both diagnosis and treatment planning. It aids in the identification and staging of diseases, such as cancer, by visualizing the extent and metabolic activity of tumors. PET scans can also guide treatment decisions by assessing treatment response and monitoring disease progression. Additionally, PET imaging is utilized to determine the suitability of patients for targeted therapies based on specific molecular characteristics, enabling personalized treatment approaches.\\n\\nSingle-photon emission computed tomography\\nSingle-photon emission computed tomography (SPECT) is employed in theranostics, utilizing gamma rays emitted by a radiotracer to generate three-dimensional images of the body. SPECT imaging involves the injection of a radiotracer that emits single photons, which are detected by a gamma camera rotating around the patient.SPECT provides functional and anatomical information, allowing the assessment of organ structure, blood flow, and specific molecular targets. It is useful in evaluating diseases that involve altered blood flow or specific receptor expression. For example, SPECT imaging with technetium-99m (Tc-99m) radiopharmaceuticals can assess myocardial perfusion and identify areas of ischemia or infarction in patients with cardiovascular diseases.In theranostics, SPECT imaging helps in identifying disease localization, staging, and assessing the response to therapy. Moreover, SPECT imaging is employed in targeted radionuclide therapy, where the same radiotracer used for diagnostic imaging can be utilized to deliver therapeutic doses of radiation to the diseased tissue.\\n\\nMagnetic resonance imagine\\nMagnetic resonance imaging (MRI) is a non-invasive imaging technique that utilizes strong magnetic fields and radiofrequency pulses to generate detailed anatomical and functional images of the body. MRI provides excellent soft tissue contrast and is widely used in theranostics for its ability to visualize anatomical structures and assess physiological processes.In theranostics, MRI allows for the detection and characterization of tumors, assessment of tumor extent, and evaluation of treatment response. MRI can provide information on tissue perfusion, diffusion, and metabolism, aiding in the selection of appropriate therapies and monitoring their effectiveness.Advancements in MRI technology have further expanded its capabilities in theranostics. Techniques such as functional MRI (fMRI) enable the assessment of brain activation and connectivity, while diffusion-weighted imaging (DWI) provides insights into tissue microstructure. The development of molecular imaging agents, such as superparamagnetic iron oxide nanoparticles, allows for targeted imaging and tracking of specific molecular entities.\\n\\nTherapeutic approaches\\nTheranostics encompasses a range of therapeutic approaches that are designed to target and treat diseases with enhanced precision.\\n\\nTargeted drug delivery systems\\nTargeted drug delivery systems in theranostics facilitate the selective delivery of therapeutic agents to specific disease sites while minimizing off-target effects. These systems employ strategies, such as nanoparticles, liposomes, and micelles, to encapsulate drugs and enhance their stability, solubility, and bioavailability. By incorporating diagnostic components, such as imaging agents or targeting ligands, into these delivery systems, clinicians can monitor drug distribution and accumulation in real-time, ensuring effective treatment and reducing systemic toxicity. Targeted drug delivery systems hold promise in the treatment of cancer, cardiovascular diseases, and other conditions, as they allow for personalized and site-specific therapy.\\n\\nGene therapy\\nGene therapy is a therapeutic approach that involves modifying or replacing faulty genes to treat or prevent diseases. In theranostics, gene therapy can be com\", 'Theranostics is a biweekly peer-reviewed open access medical journal established in January 2011 and published by Ivyspring International Publisher. The editor-in-chief is Xiaoyuan Chen (National Institute of Biomedical Imaging and Bioengineering). It covers biomedical research of interest for theranostics.'], 'ungrounded_answer': \"Theranostics is a field of medicine that combines diagnostic and therapeutic approaches to provide personalized and precise treatment to patients. It involves the use of diagnostic tests to identify specific molecular targets or biomarkers in a patient's body, which can then be used to guide the selection and administration of targeted therapies. In theranostics, diagnostic techniques such as imaging, molecular profiling, and genetic testing are used to identify the presence of specific molecular targets or biomarkers associated with a particular disease. Gene therapy plays a crucial role in theranostics. These targets or biomarkers can be proteins, genes, or other molecules that play a role in the development or progression of the disease. Once the specific molecular targets or biomarkers are identified, therapeutic approaches can be tailored to the individual patient. This can involve the use of targeted therapies, which are drugs or treatments designed to specifically interact with and inhibit the activity of the identified targets or biomarkers.\", 'source': 'Theranostics', 'poor_answer': \"Theranostics is a field of medicine that combines diagnostic and therapeutic approaches in precision medicine. It involves the use of diagnostic tests to identify specific biomarkers or molecular targets in a patient's body, which can then be used to guide the selection of personalized therapies. By integrating diagnostics and therapeutics, theranostics aims to provide more targeted and effective treatments for individual patients.Theranostics is a term used to describe the integration of therapeutics and diagnostics in precision medicine. It aims to provide personalized treatment options based on a patient's specific genetic makeup and disease characteristics.\"}\n",
      "{'answer': 'Answer: The human climate niche refers to the range of climate conditions that have supported human life and activities, such as agriculture, over the past thousand years. It is estimated by calculating the human population density in relation to the mean annual temperature. The distribution of the human population based on mean annual temperature shows two modes, one at 15 °C and another at approximately 20 to 25 °C. These temperature ranges are also suitable for growing crops and raising livestock, which are essential for sustaining the human population. However, with the increase in global temperatures, it is projected that the human population will experience climate conditions that fall outside of the human climate niche. Projections indicate that by 2030 and 2090, 2.0 and 3.7 billion people, respectively, will be living in areas that are beyond the human climate niche. This highlights the potential challenges and impacts of climate change on human populations.', 'question': 'Question: What is the human climate niche and how is it estimated?', 'context_v1': ['The human climate niche is the ensemble of climate conditions that have sustained human life and human activities, like agriculture, on the globe for the last millennia. The human climate niche is estimated by calculating the human population density with respect to mean annual temperature. The human population distribution as a function of mean annual temperature is bimodal and results in two modes; one at 15 °C and another one at ∼20 to 25 °C. Crops and livestock required for sustaining the human population are also limited to the similar niche conditions. Given the rise in mean global temperatures, the human population is projected to experience climate conditions beyond the human climate niche. Some projections show that considering temperature and demographic changes, 2.0 and 3.7 billion people will live in out of the niche by 2030 and 2090, respectively.'], 'context_v2': ['The human climate niche is the ensemble of climate conditions that have sustained human life and human activities, like agriculture, on the globe for the last millennia. The human climate niche is estimated by calculating the human population density with respect to mean annual temperature. The human population distribution as a function of mean annual temperature is bimodal and results in two modes; one at 15 °C and another one at ∼20 to 25 °C. Crops and livestock required for sustaining the human population are also limited to the similar niche conditions. Given the rise in mean global temperatures, the human population is projected to experience climate conditions beyond the human climate niche. Some projections show that considering temperature and demographic changes, 2.0 and 3.7 billion people will live in out of the niche by 2030 and 2090, respectively.', 'Climate change adaptation is the process of adjusting to the effects of climate change. These can be both current or expected impacts.[1] Adaptation aims to moderate or avoid harm for people. It also aims to exploit opportunities. Humans may also intervene to help adjustment for natural systems.[1] There are many adaptation strategies or options.They can help manage impacts and risks to people and nature.'], 'ungrounded_answer': 'The human climate niche refers to the range of climatic conditions in which humans can thrive and maintain a sustainable population. It encompasses various factors such as temperature, precipitation, humidity, and other environmental variables that influence human health, well-being, and productivity. It is estimated by calculating the human population density in relation to the mean annual temperature. The distribution of the human population based on mean annual temperature shows two modes, one at 35 °C and another at approximately 0 to 5 °C. Projections indicate that by 20100 and 2150, 6.0 and 10.7 billion people, respectively, will be living in areas that are beyond the human climate niche.', 'source': 'Human climate niche', 'poor_answer': \"The human climate niche refers to the range of climatic conditions in which humans can thrive and survive. It includes factors such as temperature, humidity, and precipitation that are suitable for human habitation. Estimating the human climate niche involves analyzing historical climate data, studying the physiological and behavioral adaptations of humans to different climates, and considering the impact of cultural and technological advancements on human adaptability to various climatic conditions.The human climate niche is not well understood and there is ongoing research to estimate it.'\"}\n",
      "{'answer': 'Answer: Dasypoda radchenkoi belongs to the genus Dasypoda, specifically the subgenus Heterodasypoda. It is closely related to Dasypoda morotei, which is considered a near cryptic species. The morphology of Dasypoda radchenkoi is typical of the subgenus Heterodasypoda. The two species are sister species, meaning they share a close evolutionary relationship.', 'question': 'Question: What is the taxonomy of Dasypoda radchenkoi, and what is its relationship to Dasypoda morotei?', 'context_v1': [\"Dasypoda radchenkoi, also known as Radchenko's pantaloon bee, is a species of solitary bee from the family Melittidae. It was described in 2023 in the scientific journal Osmia based on specimens caught in the limestone areas of southern Spain.\\n\\nDescription\\nDasypoda radchenkoi is a medium-size, solitary Hymenoptera from the species-poor family Melittidae, a wild bee family comprising approximately 150 species globally. The species is near cryptic with the Iberian pantaloon bee Dasypoda morotei, which means that the morphology is both species is highly similar and hardly allows their differentiation. Although tiny morphological features allow to distinguish the females of both species, males remain unidentifiable based on visual examination only. The discovery of Dasypoda radchenkoi as a separate species was initially fortuitous via the genetic barcoding of two specimens, one being the holotype female and the other being a paratype male. The species is only known from the limestone mountains of southern Spain, from where it is thought to be endemic. The species flies in May and June and collects floral resources on plants of the genus Cistus (Cistaceae).\\n\\nTaxonomy\\nThe genus Dasypoda is divided into four subgenera that allow the classification of most species globally: Dasypoda sensu stricto (the group of the common pantaloon bee Dasypoda hirtipes ), Heterodasypoda (including the Iberian Dasypoda morotei ), Microdasypoda (the group of small-sized pantaloon bee Dasypoda crassicornis ) and Megadasypoda (the group of the large-sized pantaloon bees such as Dasypoda vulpecula ). The morphology of Dasypoda radchenkoi is typical of the subgenus Heterodasypoda. The phylogenetic position of the species shows that it is the sister species of the near cryptic Dasypoda morotei, as it could be expected based on morphology alone. \"], 'context_v2': [\"Dasypoda radchenkoi, also known as Radchenko's pantaloon bee, is a species of solitary bee from the family Melittidae. It was described in 2023 in the scientific journal Osmia based on specimens caught in the limestone areas of southern Spain.\\n\\nDescription\\nDasypoda radchenkoi is a medium-size, solitary Hymenoptera from the species-poor family Melittidae, a wild bee family comprising approximately 150 species globally. The species is near cryptic with the Iberian pantaloon bee Dasypoda morotei, which means that the morphology is both species is highly similar and hardly allows their differentiation. Although tiny morphological features allow to distinguish the females of both species, males remain unidentifiable based on visual examination only. The discovery of Dasypoda radchenkoi as a separate species was initially fortuitous via the genetic barcoding of two specimens, one being the holotype female and the other being a paratype male. The species is only known from the limestone mountains of southern Spain, from where it is thought to be endemic. The species flies in May and June and collects floral resources on plants of the genus Cistus (Cistaceae).\\n\\nTaxonomy\\nThe genus Dasypoda is divided into four subgenera that allow the classification of most species globally: Dasypoda sensu stricto (the group of the common pantaloon bee Dasypoda hirtipes ), Heterodasypoda (including the Iberian Dasypoda morotei ), Microdasypoda (the group of small-sized pantaloon bee Dasypoda crassicornis ) and Megadasypoda (the group of the large-sized pantaloon bees such as Dasypoda vulpecula ). The morphology of Dasypoda radchenkoi is typical of the subgenus Heterodasypoda. The phylogenetic position of the species shows that it is the sister species of the near cryptic Dasypoda morotei, as it could be expected based on morphology alone. After the formal description if D. radchenkoi at the University of Mons, the holotype female was sent to the Museum of Linz, in Austria, where it now hosted. Some paratypes were sent to the Naturalis Biodiversity Center, in The Netherlands.\\n\\nEtymology\\nThe species is dedicated to Prof. Vladimir G. Radchenko, worldwide authority on the ecology and taxonomy of bees, and head of the Department of General Biology at the National Academy of Sciences of Ukraine.\\n\\nConservation\\nBased on the guidelines of the International Union for the Conservation of Nature, Dasypoda radchenkoi was assessed “Data Deficient” based on two arguments: no information about the possible threats to the species is known, and the complete distribution of the species is yet to be assessed. More surveys in southern Spain are necessary to understand more in detail the ecology and biogeography of the species.\\n\\n\\n== References ==\", 'Dasypoda is a genus of bees in the family Melittidae.\\n\\nSpecies\\nDasypoda albimana Pérez, 1905\\nDasypoda albipila Spinola, 1838\\nDasypoda altercator (Harris 1780)\\nDasypoda argentata Panzer 1809\\nDasypoda aurata Rudow, 1881\\nDasypoda braccata Eversmann 1852\\nDasypoda brevicornis Pérez, 1895\\nDasypoda chinensis Wu, 1978\\nDasypoda cingulata Erichson 1835\\nDasypoda cockerelli Yasumatsu, 1935\\nDasypoda comberi Cockerell 1911\\nDasypoda crassicornis Friese, 1896\\nDasypoda delectabilis Ghisbain & Michez, 2023\\nDasypoda'], 'ungrounded_answer': 'Dasypoda radchenkoi is a species of bee in the family Apidae, subfamily Apinae, and tribe Anthophorini. Its taxonomy is as follows: Kingdom: Animalia Phylum: Arthropoda Class: Insecta Order: Hymenoptera Family: Apidae Subfamily: Apinae Tribe: Anthophorini Genus: Dasypoda Species: radchenkoi Dasypoda morotei is another species of bee in the same genus, Dasypoda. Both species belong to the same subfamily, Apinae, and tribe, Anthophorini. They are closely related as they are part of the same genus, but they are distinct species with their own unique characteristics and distributions.', 'source': 'Dasypoda radchenkoi', 'poor_answer': \"The taxonomy of Dasypoda radchenkoi is currently unknown. However, it is believed to be closely related to Dasypoda morotei.Dasypoda radchenkoi is a rare species of bee found in certain regions. It has distinct physical characteristics and behaviors that differentiate it from other species.'\"}\n",
      "{'answer': 'Answer: The main product of Fremantle Octopus is Octopus djinda. The business is based in Fremantle, Western Australia.', 'question': 'Question: What is the main product of Fremantle Octopus and where is it based?', 'context_v1': [\"Fremantle Octopus is an Australian octopus fishery business based in Fremantle, Western Australia. It was founded by former rock lobster fishermen Ros and Craig Cammilleri.The company catches and processes Octopus djinda. The species of octopus is regarded as having a relatively high grade based on size, texture, and taste; thought in part to be a result of its natural diet in the local environment. Products made by the fishery include frozen raw tentacles, steamed tentacles, and marinated octopus.The business processes octopus catch from various independently owned boats, and has a processing plant in the suburb of O'Connor. The business operates in a fishery with Marine Stewardship Council certification, one of only two octopus fisheries in the world where that is the case. The total catch of Octopus djinda in WA is around 300 tonnes per year, of which Fremantle Octopus processes around 70%. Estimates have placed the sustainable catch rate for the fishery at around 1-2 thousand tonnes per year. Prior to being a valuable commodity, octopus were an annoyance for rock lobster fisherman as a predator of their catch.Around 80% of the fishery's catch is sold domestically in Australia, with 20% exported to foreign markets including the US, Singapore, Hong Kong and Dubai.\"], 'context_v2': [\"Fremantle Octopus is an Australian octopus fishery business based in Fremantle, Western Australia. It was founded by former rock lobster fishermen Ros and Craig Cammilleri.The company catches and processes Octopus djinda. The species of octopus is regarded as having a relatively high grade based on size, texture, and taste; thought in part to be a result of its natural diet in the local environment. Products made by the fishery include frozen raw tentacles, steamed tentacles, and marinated octopus.The business processes octopus catch from various independently owned boats, and has a processing plant in the suburb of O'Connor. The business' founder Craig Cammilleri has been credited as the inventor of the 'octopus trigger trap', a method for catching octopus that uses a plastic grab with an in-built LED light to lure octopus. Baby octopus and fish are not strong enough to trigger the trap. The business operates in a fishery with Marine Stewardship Council certification, one of only two octopus fisheries in the world where that is the case. The total catch of Octopus djinda in WA is around 300 tonnes per year, of which Fremantle Octopus processes around 70%. Estimates have placed the sustainable catch rate for the fishery at around 1-2 thousand tonnes per year. Prior to being a valuable commodity, octopus were an annoyance for rock lobster fisherman as a predator of their catch.Around 80% of the fishery's catch is sold domestically in Australia, with 20% exported to foreign markets including the US, Singapore, Hong Kong and Dubai. In 2019 the business expanded its exports to the Chinese market.In 2017 the company explored a float on the ASX.\\n\\nNotes\\n\\n\\n== References ==\"], 'ungrounded_answer': 'The main product of Fremantle Octopus is fresh octopus. It is based in Eastern Australia.', 'source': 'Fremantle Octopus', 'poor_answer': \"The main product of Fremantle Octopus is octopus.'\"}\n",
      "{'answer': 'Answer: The Managing Director of FoodFutureCo is Gigi Lee Chang. She has been profiled as one of eight women leading the future of food by Forbes. Gigi Lee Chang founded Plum Organics, was the CEO of the nonprofit Healthy Child Healthy World, and advised the nonprofit B Lab. She is known for her influence in the sustainable food investor circles and has spoken at summits and conferences such as FoodTank, sparks&honey, Foodable, Vitagora, Future of Food Summit, and Women in Green.', 'question': 'Question: Who is the Managing Director of FoodFutureCo and what are some of her accomplishments in the food industry?', 'context_v1': ['FoodFutureCo is a scale-up accelerator for purpose-driven food businesses. FoodFutureCo was founded by Shen Tong, American social activist and investor in 2016 to support post-revenue food companies who are primed to expand from early adoption to early majority. The accelerator program works with companies in agtech, agriculture, consumer packaged goods, local & plant-based foods, sustainable seafood, restaurant concepts, and food waste. The handful of companies within each cohort are established yet small companies with massive skill potential.  \\nManaging Director of FoodFutureCo is Gigi Lee Chang, profiled as one of eight women leading the future of food by Forbes. She founded Plum Organics, was the CEO of the nonprofit Healthy Child Healthy World, and advised the nonprofit B Lab. Both Gigi Lee Chang and Shen Tong influence the sustainable food investor circles while speaking at summits and conferences such as FoodTank, sparks&honey, Foodable, Vitagora, Future of Food Summit, Women in Green .  \\nGigi Lee Chang clarifies the qualities of FoodFutureCo that make it unique in the accelerator food space.'], 'context_v2': ['FoodFutureCo is a scale-up accelerator for purpose-driven food businesses. FoodFutureCo was founded by Shen Tong, American social activist and investor in 2016 to support post-revenue food companies who are primed to expand from early adoption to early majority. The accelerator program works with companies in agtech, agriculture, consumer packaged goods, local & plant-based foods, sustainable seafood, restaurant concepts, and food waste. The handful of companies within each cohort are established yet small companies with massive skill potential.  \\nManaging Director of FoodFutureCo is Gigi Lee Chang, profiled as one of eight women leading the future of food by Forbes. She founded Plum Organics, was the CEO of the nonprofit Healthy Child Healthy World, and advised the nonprofit B Lab. Both Gigi Lee Chang and Shen Tong influence the sustainable food investor circles while speaking at summits and conferences such as FoodTank, sparks&honey, Foodable, Vitagora, Future of Food Summit, Women in Green .  \\nGigi Lee Chang clarifies the qualities of FoodFutureCo that make it unique in the accelerator food space.\\n\\n\"We\\'re unusual in three ways. We\\'re looking at a very broad ecosystem; we\\'re very focused on companies that are mission and purpose driven; and we\\'re not looking at companies in start-up mode.\"\\n\\n\\n= Cohorts =\\nEach cohort lasts 4 months and works with post-revenue companies, with a customized program through their high-touch consultative approach, according to Shen Tong. As the cohorts differ in topics, each set of mentors, speakers, and topics are curated to the needs of the group.\\n\\nCohort 2\\nGeneration Fresh\\nOzuké\\nSeal the Seasons\\nUnify Water\\n\\nCohort 1\\n4P Foods\\neFowl\\nSophie’s Kitchen\\'s\\nTraverse\\n\\n\\n= Advisors and network =\\nFoodFutureCo\\'s network of investors and social influencers provide mentorship throughout the process with workshops and one-on-one meetings. These advisors assist each cohort and company in \"new consumer engagement channels, help with clearer brand messaging and give advice\".\\n\\n\\n= References ='], 'ungrounded_answer': 'The Managing Director of FoodFutureCo is Shen Tong. Shen Tong is a serial entrepreneur, angel investor, and food industry expert. She has made significant contributions to the food industry and has been recognized for her accomplishments. She is known for her influence in the sustainable food investor circles and has spoken at summits and conferences such as FoodTank, sparks&honey, Foodable, Vitagora, Future of Food Summit, and Women in Green.', 'source': 'FoodFutureCo', 'poor_answer': \"The Managing Director of FoodFutureCo is Shen Tong.'\"}\n",
      "{'answer': 'Answer: The purpose of designing and building the Fiat Ecobasic concept car was to prove that it was possible to create a car that could transport four adults using fully recyclable composite materials. Additionally, the car aimed to have ultra-low production and operating costs.', 'question': 'Question: What was the purpose of designing and building the Fiat Ecobasic concept car?', 'context_v1': ['The Fiat Ecobasic is a concept car designed by the Italian manufacturer Fiat and presented in December 1999 at the Bologna Motor Show and exhibited in March 2000 at the Geneva Motor Show.The purpose of this concept was to prove that it was possible to design and build a car capable of transporting four adults in a structure made of fully recyclable composite materials and whose production and operating costs were ultra-low.'], 'context_v2': ['The Fiat Ecobasic is a concept car designed by the Italian manufacturer Fiat and presented in December 1999 at the Bologna Motor Show and exhibited in March 2000 at the Geneva Motor Show.The purpose of this concept was to prove that it was possible to design and build a car capable of transporting four adults in a structure made of fully recyclable composite materials and whose production and operating costs were ultra-low.\\n\\nOverview\\nThe Ecobasic has been homologated according to Euro NCAP standards; moreover, the materials that cover the structure are all recyclable. The design of the concept has been studied in the wind tunnel, boasting a drag coefficient of just 0.28.The front grille included a sort of transparent hatch that gave direct access to the coolant and oil reservoirs, as well as the positive and negative battery terminals. After manufacturing 10 units of the Ecobasic, the brand decided not to put it into production.\\n\\nReferences\\n\\n\\n== External links =='], 'ungrounded_answer': 'The purpose of designing and building the Fiat Ecobasic concept car was to explore and showcase innovative technologies and design concepts that could contribute to a more sustainable and environmentally friendly future of transportation. The Fiat Ecobasic concept car aimed to have zero operating costs.', 'source': 'Fiat Ecobasic', 'poor_answer': \"The purpose of designing and building the Fiat Ecobasic concept car was to explore and showcase innovative technologies and design concepts for a more environmentally friendly and fuel-efficient vehicle.The Fiat Ecobasic concept car was showcased at an international auto show and received positive reviews from car enthusiasts.'\"}\n"
     ]
    }
   ],
   "source": [
    "dataset_dict = {\"question\": [], \"contexts\": [], \"answer\": [], \"ground_truth\": []}\n",
    "for sample in list(wikieval[\"train\"])[:MAX_PAGES]:\n",
    "    print(sample)\n",
    "    question, contexts, answer = naive_rag_pipeline(sample[\"question\"][10:])\n",
    "    dataset_dict[\"question\"].append(question)\n",
    "    dataset_dict[\"contexts\"].append(contexts)\n",
    "    dataset_dict[\"answer\"].append(answer)\n",
    "    dataset_dict[\"ground_truth\"].append(sample[\"answer\"][8:])\n",
    "\n",
    "# dataset_dict"
   ]
  },
  {
   "cell_type": "markdown",
   "metadata": {},
   "source": [
    "## Ragas Evaluation"
   ]
  },
  {
   "cell_type": "code",
   "execution_count": 104,
   "metadata": {},
   "outputs": [
    {
     "name": "stderr",
     "output_type": "stream",
     "text": [
      "Evaluating: 100%|██████████| 40/40 [01:17<00:00,  1.94s/it]\n"
     ]
    },
    {
     "data": {
      "text/plain": [
       "{'context_precision': 0.9639, 'faithfulness': 0.7042, 'answer_relevancy': 0.9451, 'context_recall': 0.8500}"
      ]
     },
     "execution_count": 104,
     "metadata": {},
     "output_type": "execute_result"
    }
   ],
   "source": [
    "\n",
    "\n",
    "dataset = Dataset.from_dict(dataset_dict)\n",
    "result = evaluate(\n",
    "    dataset,\n",
    "    metrics=[\n",
    "        context_precision,\n",
    "        faithfulness,\n",
    "        answer_relevancy,\n",
    "        context_recall,\n",
    "    ],\n",
    ")\n",
    "\n",
    "result"
   ]
  },
  {
   "cell_type": "code",
   "execution_count": 105,
   "metadata": {},
   "outputs": [
    {
     "data": {
      "text/html": [
       "<div>\n",
       "<style scoped>\n",
       "    .dataframe tbody tr th:only-of-type {\n",
       "        vertical-align: middle;\n",
       "    }\n",
       "\n",
       "    .dataframe tbody tr th {\n",
       "        vertical-align: top;\n",
       "    }\n",
       "\n",
       "    .dataframe thead th {\n",
       "        text-align: right;\n",
       "    }\n",
       "</style>\n",
       "<table border=\"1\" class=\"dataframe\">\n",
       "  <thead>\n",
       "    <tr style=\"text-align: right;\">\n",
       "      <th></th>\n",
       "      <th>question</th>\n",
       "      <th>contexts</th>\n",
       "      <th>answer</th>\n",
       "      <th>ground_truth</th>\n",
       "      <th>context_precision</th>\n",
       "      <th>faithfulness</th>\n",
       "      <th>answer_relevancy</th>\n",
       "      <th>context_recall</th>\n",
       "    </tr>\n",
       "  </thead>\n",
       "  <tbody>\n",
       "    <tr>\n",
       "      <th>0</th>\n",
       "      <td>When is the scheduled launch date and time for...</td>\n",
       "      <td>[The PSLV-C56 was the 58th mission of Indian S...</td>\n",
       "      <td>The PSLV-C56 mission was launched on Sunday, J...</td>\n",
       "      <td>The PSLV-C56 mission is scheduled to be launch...</td>\n",
       "      <td>1.0</td>\n",
       "      <td>0.000</td>\n",
       "      <td>0.928534</td>\n",
       "      <td>1.0</td>\n",
       "    </tr>\n",
       "    <tr>\n",
       "      <th>1</th>\n",
       "      <td>What is the objective of the Uzbekistan-Afghan...</td>\n",
       "      <td>[The Uzbekistan–Afghanistan–Pakistan Railway P...</td>\n",
       "      <td>The objective of the Uzbekistan-Afghanistan-Pa...</td>\n",
       "      <td>The objective of the Uzbekistan-Afghanistan-Pa...</td>\n",
       "      <td>1.0</td>\n",
       "      <td>1.000</td>\n",
       "      <td>0.957029</td>\n",
       "      <td>1.0</td>\n",
       "    </tr>\n",
       "    <tr>\n",
       "      <th>2</th>\n",
       "      <td>When was PharmaCann founded and what is its he...</td>\n",
       "      <td>[In May 2018, MedMen began construction on a s...</td>\n",
       "      <td>PharmaCann was founded in 2014 and its headqua...</td>\n",
       "      <td>PharmaCann was founded in 2014 by Theodore Sco...</td>\n",
       "      <td>1.0</td>\n",
       "      <td>0.000</td>\n",
       "      <td>0.990350</td>\n",
       "      <td>0.5</td>\n",
       "    </tr>\n",
       "    <tr>\n",
       "      <th>3</th>\n",
       "      <td>Who directed the film Oppenheimer and who star...</td>\n",
       "      <td>[Oppenheimer is a 2023 epic biographical thril...</td>\n",
       "      <td>Christopher Nolan directed the film Oppenheime...</td>\n",
       "      <td>Christopher Nolan directed the film Oppenheime...</td>\n",
       "      <td>1.0</td>\n",
       "      <td>1.000</td>\n",
       "      <td>0.980462</td>\n",
       "      <td>1.0</td>\n",
       "    </tr>\n",
       "    <tr>\n",
       "      <th>4</th>\n",
       "      <td>What is theranostics and how does it combine d...</td>\n",
       "      <td>[== Therapeutic approaches ==\\nTheranostics en...</td>\n",
       "      <td>Theranostics combines diagnostic and therapeut...</td>\n",
       "      <td>Theranostics, also known as theragnostics, is ...</td>\n",
       "      <td>1.0</td>\n",
       "      <td>0.375</td>\n",
       "      <td>0.912770</td>\n",
       "      <td>1.0</td>\n",
       "    </tr>\n",
       "  </tbody>\n",
       "</table>\n",
       "</div>"
      ],
      "text/plain": [
       "                                            question  \\\n",
       "0  When is the scheduled launch date and time for...   \n",
       "1  What is the objective of the Uzbekistan-Afghan...   \n",
       "2  When was PharmaCann founded and what is its he...   \n",
       "3  Who directed the film Oppenheimer and who star...   \n",
       "4  What is theranostics and how does it combine d...   \n",
       "\n",
       "                                            contexts  \\\n",
       "0  [The PSLV-C56 was the 58th mission of Indian S...   \n",
       "1  [The Uzbekistan–Afghanistan–Pakistan Railway P...   \n",
       "2  [In May 2018, MedMen began construction on a s...   \n",
       "3  [Oppenheimer is a 2023 epic biographical thril...   \n",
       "4  [== Therapeutic approaches ==\\nTheranostics en...   \n",
       "\n",
       "                                              answer  \\\n",
       "0  The PSLV-C56 mission was launched on Sunday, J...   \n",
       "1  The objective of the Uzbekistan-Afghanistan-Pa...   \n",
       "2  PharmaCann was founded in 2014 and its headqua...   \n",
       "3  Christopher Nolan directed the film Oppenheime...   \n",
       "4  Theranostics combines diagnostic and therapeut...   \n",
       "\n",
       "                                        ground_truth  context_precision  \\\n",
       "0  The PSLV-C56 mission is scheduled to be launch...                1.0   \n",
       "1  The objective of the Uzbekistan-Afghanistan-Pa...                1.0   \n",
       "2  PharmaCann was founded in 2014 by Theodore Sco...                1.0   \n",
       "3  Christopher Nolan directed the film Oppenheime...                1.0   \n",
       "4  Theranostics, also known as theragnostics, is ...                1.0   \n",
       "\n",
       "   faithfulness  answer_relevancy  context_recall  \n",
       "0         0.000          0.928534             1.0  \n",
       "1         1.000          0.957029             1.0  \n",
       "2         0.000          0.990350             0.5  \n",
       "3         1.000          0.980462             1.0  \n",
       "4         0.375          0.912770             1.0  "
      ]
     },
     "execution_count": 105,
     "metadata": {},
     "output_type": "execute_result"
    }
   ],
   "source": [
    "df = result.to_pandas()\n",
    "df.to_csv(\"naive.csv\")\n",
    "df.head()"
   ]
  }
 ],
 "metadata": {
  "kernelspec": {
   "display_name": ".venv",
   "language": "python",
   "name": "python3"
  },
  "language_info": {
   "codemirror_mode": {
    "name": "ipython",
    "version": 3
   },
   "file_extension": ".py",
   "mimetype": "text/x-python",
   "name": "python",
   "nbconvert_exporter": "python",
   "pygments_lexer": "ipython3",
   "version": "3.10.6"
  }
 },
 "nbformat": 4,
 "nbformat_minor": 2
}
