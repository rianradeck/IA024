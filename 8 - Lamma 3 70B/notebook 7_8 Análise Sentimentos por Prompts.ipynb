{
 "cells": [
  {
   "cell_type": "markdown",
   "metadata": {},
   "source": [
    "# Load Dataset"
   ]
  },
  {
   "cell_type": "code",
   "execution_count": 97,
   "metadata": {},
   "outputs": [],
   "source": [
    "from torch.utils.data import Dataset\n",
    "from datasets import load_dataset\n",
    "import re\n",
    "\n",
    "class IMDBDataset(Dataset):\n",
    "    def __init__(self, split, max_length=512):\n",
    "        self.dataset = load_dataset(\"imdb\")[split]\n",
    "        self.max_length = max_length\n",
    "\n",
    "    def __len__(self):\n",
    "        return len(self.dataset)\n",
    "\n",
    "    def __getitem__(self, idx):\n",
    "        text = self.dataset[idx]['text']\n",
    "        label = self.dataset[idx]['label']\n",
    "        \n",
    "        text = re.sub(r'<.*?>', '', text)\n",
    "\n",
    "        return {\n",
    "            'text': text,\n",
    "            'label': str(label)\n",
    "        }\n",
    "\n",
    "# train_dataset = IMDBDataset('train')\n",
    "test_dataset = IMDBDataset('test')\n"
   ]
  },
  {
   "cell_type": "code",
   "execution_count": 98,
   "metadata": {},
   "outputs": [
    {
     "data": {
      "text/plain": [
       "{'text': 'I love sci-fi and am willing to put up with a lot. Sci-fi movies/TV are usually underfunded, under-appreciated and misunderstood. I tried to like this, I really did, but it is to good TV sci-fi as Babylon 5 is to Star Trek (the original). Silly prosthetics, cheap cardboard sets, stilted dialogues, CG that doesn\\'t match the background, and painfully one-dimensional characters cannot be overcome with a \\'sci-fi\\' setting. (I\\'m sure there are those of you out there who think Babylon 5 is good sci-fi TV. It\\'s not. It\\'s clichéd and uninspiring.) While US viewers might like emotion and character development, sci-fi is a genre that does not take itself seriously (cf. Star Trek). It may treat important issues, yet not as a serious philosophy. It\\'s really difficult to care about the characters here as they are not simply foolish, just missing a spark of life. Their actions and reactions are wooden and predictable, often painful to watch. The makers of Earth KNOW it\\'s rubbish as they have to always say \"Gene Roddenberry\\'s Earth...\" otherwise people would not continue watching. Roddenberry\\'s ashes must be turning in their orbit as this dull, cheap, poorly edited (watching it without advert breaks really brings this home) trudging Trabant of a show lumbers into space. Spoiler. So, kill off a main character. And then bring him back as another actor. Jeeez! Dallas all over again.',\n",
       " 'label': '0'}"
      ]
     },
     "execution_count": 98,
     "metadata": {},
     "output_type": "execute_result"
    }
   ],
   "source": [
    "test_dataset[0]"
   ]
  },
  {
   "cell_type": "markdown",
   "metadata": {},
   "source": [
    "# Load GROQ API"
   ]
  },
  {
   "cell_type": "code",
   "execution_count": 121,
   "metadata": {},
   "outputs": [
    {
     "data": {
      "text/plain": [
       "'0'"
      ]
     },
     "execution_count": 121,
     "metadata": {},
     "output_type": "execute_result"
    }
   ],
   "source": [
    "import os\n",
    "from groq import Groq\n",
    "\n",
    "class GroqAPI():\n",
    "    def __init__(self):\n",
    "        self.client = Groq(api_key=os.environ.get(\"GROQ_API_KEY\"))\n",
    "        \n",
    "        self.model = \"llama3-70b-8192\"\n",
    "\n",
    "    \n",
    "    def get_answer(self, question : str, temperature = 0, max_tokens = 1, no_prompt = False):\n",
    "        \"\"\"\n",
    "        Asks a question to model without any historic about the chat\n",
    "\n",
    "        Full documentation: https://console.groq.com/docs/text-chat\n",
    "        \"\"\"\n",
    "\n",
    "        messages = [\n",
    "            {\n",
    "                \"role\" : \"system\",\n",
    "                \"content\" : \"You are classifying a review about a movie. Respond with an 0 if the review is negative and with an 1 if the review is positive.\"\n",
    "            },\n",
    "            {\n",
    "                \"role\" : \"user\",\n",
    "                \"content\" : question\n",
    "            }\n",
    "        ]\n",
    "\n",
    "        if no_prompt:\n",
    "            messages[0][\"content\"] = \"You should answer the questions proposed by the user.\"\n",
    "\n",
    "\n",
    "        answer = self.client.chat.completions.create(\n",
    "            messages=messages,\n",
    "            model=self.model,\n",
    "            temperature=temperature,\n",
    "            max_tokens=max_tokens\n",
    "        )\n",
    "\n",
    "        return answer.choices[0].message.content\n",
    "    \n",
    "api = GroqAPI()\n",
    "api.get_answer(test_dataset[0]['text'])"
   ]
  },
  {
   "cell_type": "markdown",
   "metadata": {},
   "source": [
    "# Evaluation"
   ]
  },
  {
   "cell_type": "code",
   "execution_count": 100,
   "metadata": {},
   "outputs": [
    {
     "name": "stderr",
     "output_type": "stream",
     "text": [
      "100%|██████████| 200/200 [07:49<00:00,  2.35s/it]\n"
     ]
    }
   ],
   "source": [
    "n_data = 200\n",
    "\n",
    "import numpy as np\n",
    "import tqdm\n",
    "\n",
    "shuffled_test_dataset = [x for x in test_dataset]\n",
    "\n",
    "np.random.seed(42)\n",
    "np.random.shuffle(shuffled_test_dataset)\n",
    "\n",
    "predictions = []\n",
    "true_labels = []\n",
    "\n",
    "for sample in tqdm.tqdm(shuffled_test_dataset[:n_data]):\n",
    "    text = sample['text']\n",
    "    true_labels.append(sample['label'])\n",
    "    \n",
    "    predictions.append(api.get_answer(text))"
   ]
  },
  {
   "cell_type": "code",
   "execution_count": 101,
   "metadata": {},
   "outputs": [
    {
     "name": "stdout",
     "output_type": "stream",
     "text": [
      "Accuracy: 0.965\n"
     ]
    }
   ],
   "source": [
    "wrongs = 0\n",
    "for i in range(len(predictions)):\n",
    "    if true_labels[i] != predictions[i]:\n",
    "        wrongs += 1\n",
    "\n",
    "print(f\"Accuracy: {1 - wrongs / len(predictions)}\")"
   ]
  },
  {
   "cell_type": "code",
   "execution_count": 102,
   "metadata": {},
   "outputs": [
    {
     "data": {
      "image/png": "[encoded data removed]",
      "text/plain": [
       "<Figure size 800x600 with 2 Axes>"
      ]
     },
     "metadata": {},
     "output_type": "display_data"
    }
   ],
   "source": [
    "import matplotlib.pyplot as plt\n",
    "from sklearn.metrics import confusion_matrix\n",
    "import seaborn as sns\n",
    "\n",
    "\n",
    "# Convert labels to a numerical form\n",
    "labels = {\"positive\": '1', \"negative\": '0'}\n",
    "\n",
    "y_true_num = true_labels.copy()\n",
    "y_pred_num = predictions.copy()\n",
    "for i in range(len(y_pred_num)):\n",
    "    if y_pred_num[i] != '1' and y_pred_num[i] != '0':\n",
    "        y_pred_num[i] = '2'\n",
    "\n",
    "# Compute the confusion matrix\n",
    "cm = confusion_matrix(y_true_num, y_pred_num)\n",
    "\n",
    "# Plot the confusion matrix using seaborn\n",
    "fig, ax = plt.subplots(figsize=(8, 6))\n",
    "sns.heatmap(cm, annot=True, fmt='d', cmap='Blues', xticklabels=[\"Negative\", \"Positive\"] + [\"Other\"] if '2' in y_pred_num else [], yticklabels=[\"Negative\", \"Positive\"])\n",
    "\n",
    "# Labels, title, and ticks\n",
    "ax.set_ylabel('Actual Label')\n",
    "ax.set_xlabel('Predicted Label')\n",
    "ax.set_title('Confusion Matrix')\n",
    "\n",
    "# Show the plot\n",
    "plt.show()\n"
   ]
  },
  {
   "cell_type": "markdown",
   "metadata": {},
   "source": [
    "# Visualizing wrong predictions"
   ]
  },
  {
   "cell_type": "code",
   "execution_count": 126,
   "metadata": {},
   "outputs": [],
   "source": [
    "miss_classified_samples = []\n",
    "\n",
    "for i in range(len(predictions)):\n",
    "    if true_labels[i] != predictions[i]:\n",
    "        miss_classified_samples.append(i)\n"
   ]
  },
  {
   "cell_type": "code",
   "execution_count": 127,
   "metadata": {},
   "outputs": [
    {
     "name": "stderr",
     "output_type": "stream",
     "text": [
      "100%|██████████| 7/7 [00:09<00:00,  1.35s/it]"
     ]
    },
    {
     "name": "stdout",
     "output_type": "stream",
     "text": [
      "############ 0 ############\n",
      "Why do you think this review from imdb:\n",
      "The word honor should be erased from the vocabularies of all nations. It aggravates male dumbness and is responsible for the death of millions of innocent people. Anybody who does not agree should not care to continue reading this comment.As can be expected with these screenwriters, Yakuza is an engaging crime thriller with quite a lot of respect for the ethnical background against which it is acted out. Friends of gore and violence will not be disappointed either, but especially towards the end violence becomes somewhat pointless, redundant and downright silly. Contrary to other reviewers I found Robert Mitchum's performance not very good. This is an actor who definitely did not improve with age. He looks like a tired janitor (it does not go too well with the part), and his air of detachment which made him such an impressive screen presence in earlier years comes through as either confusion or lack of interest. Ken Takakura and Richard Jordan are very good as man of honor and young, intelligent, feeling thug respectively.The best way to stand this movie is seeing it as a tragic comedy. Things are set in motion by the Mitchum character's asking the Takakura character a favor based on wrong assumptions. The error quickly becomes evident, but the sense of honor demands they must not back off. So they start sneaking around, shooting in all directions, wielding swords and wrecking their friend's arty apartment (although the guy pleads with them stop it, please\" all through the corresponding fight). Bodies start piling up and the story ends with Mitchum's character making his point: If YOU give HIM YOUR little finger, I will give YOU MINE. Well, it's the least he can do, can't he? So he pulls out a knife, takes a resigned breath and starts sawing off said extremity (outside the frame, luckily). It was a moment which probably should have been solemn. It just made me laugh.The use of locations is very good in this movie. I particularly liked the scenes filmed in and around the International Conference Hall on Lake Takaragaike, an interesting futuristic building by architect Sachio Otani (the Kyoto protocol was signed there). To me the presentation of architecture seems better here than in Sydney Pollack's more recent documentary Sketches of Frank O. Gehry which is about architecture and nothing else.\n",
      "was classified positive by Lamma3 70B when the actual classification was negative ?\n",
      "After reading the review, I can understand why you might think it's a negative review. Here's why:\n",
      "\n",
      "1. The reviewer starts with a strong statement about the concept of \"honor\" being responsible for the death of millions of innocent people, which sets a negative tone.\n",
      "2. They criticize Robert Mitchum's performance, saying he looks like a \"tired janitor\" and that his air of detachment comes across as \"confusion or lack of interest.\"\n",
      "3. They describe the violence in the movie as \"pointless, redundant, and downright silly\" towards the end.\n",
      "4. They seem to mock the concept of \"honor\" in the movie, calling it a \"tragic comedy\" and describing the characters' actions as absurd and laughable.\n",
      "\n",
      "However, the reviewer also mentions some positive aspects of the movie, such as:\n",
      "\n",
      "1. They praise the respect shown to the ethnic background against which the movie is set.\n",
      "2. They say that fans of gore and violence will not be disappointed.\n",
      "3. They compliment the performances of Ken Takakura and Richard Jordan.\n",
      "4. They appreciate the use of locations in the movie, particularly the scenes filmed at the International Conference Hall on Lake Takaragaike.\n",
      "\n",
      "Given these mixed opinions, it's possible that the classifier, Lamma3 70B, might have misclassified the review as positive due to the reviewer's sarcastic tone and the fact that they mention some positive aspects of the movie. However, overall, the review seems to lean more towards a negative assessment of the movie.\n",
      "#############################\n",
      "############ 1 ############\n",
      "Why do you think this review from imdb:\n",
      "This terrible moovie is fun on many levels - the moost obvious is the lame, fake-looking bird puppet which floats around the cheap sets, without ever flapping it wings (like it was on a string, perhaps?), attacking model trains and toy cars. The \"science\" is asinine - a masonic atom gun?? And what's up with the enormous amounts of Brylcream in everyone's hair? I guess the 50's were the Slimeball decade! Well, this bird puppet apparently comes from \"some god-forsaken anti-matter universe\", and it's here to build a nest & lay eggs in New York. Seriously. That they manage to kill the puppet is almost a shame. I give it 1 hoof out of 4 - it's silly and stupid, but moore fun than Armageddon. :=8)\n",
      "was classified positive by Lamma3 70B when the actual classification was negative ?\n",
      "What a great question!\n",
      "\n",
      "After analyzing the review, I think I have some insights on why Lamma3 70B might have misclassified it as positive:\n",
      "\n",
      "1. **Tone and language**: The reviewer uses a playful, tongue-in-cheek tone, which might have misled the model. The use of colloquial expressions like \"moost obvious\", \"Slimeball decade\", and \":=8)\" creates a lighthearted atmosphere, making it seem like the reviewer is enjoying the movie's campiness.\n",
      "2. **Sarcasm and irony**: The reviewer's comments, such as \"This terrible moovie is fun on many levels\" and \"it's silly and stupid, but moore fun than Armageddon\", contain a healthy dose of sarcasm and irony. While the reviewer is poking fun at the movie's flaws, the model might have misinterpreted these statements as genuine praise.\n",
      "3. **Focus on entertainment value**: The reviewer does acknowledge that the movie is entertaining, albeit in a so-bad-it's-good kind of way. This focus on the movie's entertainment value might have led the model to believe that the review is overall positive.\n",
      "4. **Lack of strong negative language**: While the reviewer does use negative words like \"terrible\", \"lame\", and \"asinine\", they are not used in a strongly condemnatory tone. The language is playful and humorous, which might have softened the model's perception of the review's negativity.\n",
      "\n",
      "In contrast, a human reader would likely pick up on the reviewer's tongue-in-cheek tone, sarcasm, and irony, and correctly classify the review as negative.\n",
      "#############################\n",
      "############ 2 ############\n",
      "Why do you think this review from imdb:\n",
      "You can generally ask two questions concerning 80's low-budget horror films. and this `Demon Wind' in particular. 1. Is it a good film? No.. 2. Is it a fun film?? You bet! Demon Wind is a gruesomely filthy and nauseating tale, filled with cheesy make-up effects and nasty violence. The story is pretty much non-existent and involves a group of young people revealing the horrible secrets of one of the groups' ancestors. Apparently, his grandparents used to live in a devil-worshiping neighborhood, and evil (in the form of demons and fog) still dwells around there. But, I got to hand it to this film.from start to finish, it breathes morbidity! The diabolical undertones, the playful gore and the (relatively) decent acting all together make this film raise high above the mainstream, uninspired 80's slashers for sure. It shows some creativity and guts (literally) where other productions from this decade fall into routine and oblivion more easily. This creators clearly got inspired by the success of `the Evil Dead', and perhaps even Lamberto Bava's `Demons, but what the heck! It's fun and made with lots of enthusiasm. Although.this film does have a pretty high `what the f***'- standard at times. Especially near the end, when flashbacks and laser shows are happily being mixed. And what the hell is the story on those two wannabe magicians? Nonetheless, `Demon Wind' gets my recommendation if your likes aren't too high concerning crap horror!\n",
      "was classified positive by Lamma3 70B when the actual classification was negative ?\n",
      "After reading the review, I think I can provide some insights on why Lamma3 70B might have misclassified it as positive.\n",
      "\n",
      "Although the reviewer mentions some negative aspects of the film, such as the non-existent storyline, cheesy makeup effects, and a high \"what the f***\" standard, they also use phrases like \"You bet!\" and \"I got to hand it to this film\" to express their enthusiasm and appreciation for the film's creativity, gore, and morbidity. The reviewer also compares it favorably to other 80's slashers, stating that it \"raises high above\" them.\n",
      "\n",
      "The reviewer's tone is playful and tongue-in-cheek, which might have led Lamma3 70B to misinterpret the review as overall positive. The reviewer's use of phrases like \"it's fun\" and \"made with lots of enthusiasm\" might have also contributed to the misclassification.\n",
      "\n",
      "However, upon closer reading, it's clear that the reviewer is acknowledging the film's flaws and shortcomings while still finding enjoyment in its campy, over-the-top nature. The review is more nuanced than a straightforward positive or negative assessment, and Lamma3 70B might have benefited from a more careful analysis of the reviewer's tone and language.\n",
      "#############################\n",
      "############ 3 ############\n",
      "Why do you think this review from imdb:\n",
      "This cheapo remake of the terrific Five Star Final suffers from terrible acting. Humphrey Bogart stars as the manager of a sleazoid radio station that is desperate to boost sagging ratings. The owner decides to have a series of morality plays written about a famous murder case from 20 years ago. So they hire the fake preacher (Harry Hayden) to track down the murderess, who was acquitted and has been living quietly under a fake name. The preacher arrive on the daughter's wedding day, but the ruthless radio station refuses to back off exposing the mother and ruining their lives.Bogart is always good. Hayden is good the the slimy preacher, and Henry O'Neill is good as the father. Everyone else is just awful. Helen McKeller wins no sympathy (crucial for the role), Linda Perry is a lousy actress, Beverly Roberts is OK but always looks old, Claire Dodd and Hobart Cavanagh have no parts, Carlyle Moore is a dud as the boy friend, Virginia Brissac is miscast as the society mother, Robert Middlemas overacts as the station owner.This one comes in under an hour but is a pale copy of the original which boasted dynamic performances by Edward G. Robinson, Aline MacMahon, Frances Starr, and Boris Karloff. But it's always worth watching Boagrt.\n",
      "was classified negative by Lamma3 70B when the actual classification was positive ?\n",
      "After analyzing the review, I think I can provide some insights on why Lamma3 70B might have misclassified it as negative:\n",
      "\n",
      "1. **Tone**: The review starts by calling the remake \"cheapo\" and criticizing the acting, which might give the impression that the review is overall negative. However, the tone shifts as the reviewer praises the performances of Bogart, Hayden, and O'Neill.\n",
      "2. **Criticism of supporting cast**: The reviewer is quite harsh in their assessment of the supporting actors, using words like \"awful,\" \"lousy,\" and \"dud.\" This negative language might have led Lamma3 70B to misclassify the review as negative.\n",
      "3. **Comparison to the original**: The reviewer mentions that the remake is a \"pale copy\" of the original, which might be seen as a negative comment. However, in context, it's clear that the reviewer is simply stating that the original was better, rather than expressing outright dislike for the remake.\n",
      "\n",
      "Despite these negative comments, the reviewer does praise Bogart's performance and mentions that the movie is \"always worth watching\" because of him. This suggests that the review is ultimately positive, albeit with some criticisms.\n",
      "\n",
      "It's possible that Lamma3 70B's algorithm was overly influenced by the negative language and criticism in the review, leading to the misclassification.\n",
      "#############################\n",
      "############ 4 ############\n",
      "Why do you think this review from imdb:\n",
      "Though I had sort of enjoyed THE SATANIC RITES OF Dracula (1974), I knew I shouldn't expect too much from its even more maligned predecessor! Surely the least of the Hammer Draculas (Marcus Hearn on the Audio Commentary for THE CREEPING FLESH [1973] even goes so far as to call it the studio's nadir!), the film really flounders due to its totally unhip - and now embarrassingly dated - updating of the myth (the modern-day setting actually suited SATANIC RITES rather better)...even if, truth be told, it's still vastly preferable to dreck like Dracula 2000 (2000) or VAN HELSING (2004)!Despite Christopher Lee's vociferous bashing of the film, he still cuts an undeniably striking figure as the undead vampire (even if he appears very little and is inexplicably confined to one setting); likewise, Peter Cushing delivers his usual committed performance. The only other noteworthy acting job in the film is that given by Christopher Neame (son of director Ronald) as Johnny Alucard(!) - even if that's only because of how unbelievably hammy it is! Unfortunately, the two best-known female members of the cast (both of them horror regulars) - Stephanie Beacham and Caroline Munro - can't rise above their physical attributes.The camera-work is by Dick Bush (who had shot THE BLOOD ON SATAN'S CLAW [1971] and, for Hammer, WHEN DINOSAURS RULED THE EARTH [1970] and TWINS OF EVIL [1971] - but is perhaps best known for his longtime association with Ken Russell) which manages some nice atmosphere throughout, especially during three crucial sequences: the carriage-ride scuffle at the (properly Gothic) beginning; the hysterical Black Mass sequence, followed by the resuscitation of Dracula; and the final confrontation between Lee and Cushing's Van Helsing.\n",
      "was classified positive by Lamma3 70B when the actual classification was negative ?\n",
      "I think I can help clarify this!\n",
      "\n",
      "Upon reading the review, I can understand why Lamma3 70B might have misclassified it as positive. Here are some reasons why:\n",
      "\n",
      "1. The reviewer mentions some positive aspects of the film, such as Christopher Lee's striking figure as Dracula, Peter Cushing's committed performance, and the atmospheric camera work by Dick Bush.\n",
      "2. The reviewer also compares the film favorably to other, worse Dracula movies (Dracula 2000 and Van Helsing), implying that this film is at least better than those.\n",
      "\n",
      "However, upon closer reading, it's clear that the reviewer's overall tone is negative. They:\n",
      "\n",
      "1. Call the film \"the least of the Hammer Draculas\" and mention that it \"really flounders\" due to its outdated modern-day setting.\n",
      "2. Criticize the acting of two female leads, Stephanie Beacham and Caroline Munro, implying that they don't bring much to their roles beyond their physical appearance.\n",
      "3. Use phrases like \"totally unhip\" and \"embarrassingly dated\" to describe the film's updating of the Dracula myth.\n",
      "\n",
      "Overall, while the reviewer does mention some positive aspects, their criticism and negative comments outweigh the positive ones, making the review ultimately negative.\n",
      "#############################\n",
      "############ 5 ############\n",
      "Why do you think this review from imdb:\n",
      "This film is so bad it's hilarious. I watched Hell Ride half thinking it was a comedy, although I couldn't quite work out if they were actually taking the p*ss, or if this really was a serious attempt at making something decent. I notice it isn't listed here as a comedy so they must be serious! It's basically seems to be about a gang of pensioners who ride round on motorcycles shooting at each other and exchanging the most hilariously bad dialogue you can imagine. One scene inexplicably has two characters smashing bottles over each others heads, then showing each other 'get out of jail free' cards that they've made! Also check out Vinnie Jones' accent, where the hell is he meant to be from?!? Oh and there's a load of naked girls in it too, who for some unfathomable reason seem to want nothing more than to have none stop sex with these leathery skinned b*stards! The guy who wrote and directed it - a Pee Wee Herman lookalike with a Greeshan 2000'd beard and an orange sunbed tan - has for some reason cast himself in the lead role, maybe this is part of the joke, I don't know. Actually, the more I think about it the more I'm sure this film is a p*ss take. It's produced by Quentin Tarantino and it's possible he's released this in humour as a bit of a laugh. It is a total rip off of Tarantino's style, but just done really really badly. It is very amusing though, and I guess either way it could go down as a cult classic, either from being an amusing parody of the Tarantino/Rodriguez style, or something that is very very unintentionally funny. Has to be seen to be believed.\n",
      "was classified positive by Lamma3 70B when the actual classification was negative ?\n",
      "What an interesting question!\n",
      "\n",
      "After carefully reading the review, I think I have an answer:\n",
      "\n",
      "The reviewer's tone is sarcastic and playful, which might have led to the misclassification. Although the reviewer uses phrases like \"so bad it's hilarious\" and \"amusingly bad,\" they also mention several negative aspects of the film, such as the \"hilariously bad dialogue,\" \"leathery skinned b*stards,\" and the overall poor quality of the movie.\n",
      "\n",
      "However, the reviewer's use of irony and sarcasm might have been misinterpreted as a positive review. The reviewer does mention that the film is \"amusing\" and \"has to be seen to be believed,\" which could be seen as positive comments. Additionally, the reviewer suggests that the film might become a \"cult classic,\" which could be interpreted as a positive outcome.\n",
      "\n",
      "It's possible that the classification model, Lamma3 70B, was confused by the reviewer's tone and the mix of negative and positive comments, leading to an incorrect classification as a positive review.\n",
      "#############################\n",
      "############ 6 ############\n",
      "Why do you think this review from imdb:\n",
      "Hey all, I just wanted to give you all a few crazy facts about this movie. I was actually one of the Make-up FX artists that help create the \"beast\" for this movie and I have to tell you the original creature looked absolutely amazing. I remember when we got the first photos back from the set we were all talking about how much of a shame it was that this creature was in a movie that would probably be pretty poor.What actually happened though was that Jason Palmer did the original make-up for the Sasquatch, but for some reason they had to go back and re-shoot much of the creature. The sad part was that Jason passed away a few weeks before that and so the re-done creature was no where near as awesome as the original one.For me it was quite sad because this was Jasons final movie, and he sort of got cheated out of his final fame due to the bad re-shoots. Anyway, I thought you guys may find that a tad interesing, and if you would like you can head over to mmmyeah.com and check out some \"behind the scenes\" photos.Later, Jeff\n",
      "was classified positive by Lamma3 70B when the actual classification was negative ?\n",
      "I think I can help clarify this!\n",
      "\n",
      "The review from IMDB seems to be classified as positive by Lamma3 70B, but upon closer inspection, the actual tone of the review is more negative than positive. Here's why:\n",
      "\n",
      "Although the reviewer, Jeff, shares some interesting behind-the-scenes information and praises the original creature design, the overall tone of the review is melancholic and critical. Jeff expresses sadness and disappointment about the re-shoots, which he believes ruined the original creature design. He also mentions that the re-shoots were a shame, especially since it was Jason Palmer's final movie before his passing.\n",
      "\n",
      "The review is not exactly praising the movie or its final product. Instead, it's more of a nostalgic and somewhat critical reflection on the making of the film. Therefore, I would argue that the classification of this review as positive is incorrect, and it should be classified as negative or neutral at best.\n",
      "#############################\n"
     ]
    },
    {
     "name": "stderr",
     "output_type": "stream",
     "text": [
      "\n"
     ]
    }
   ],
   "source": [
    "\n",
    "responses = []\n",
    "for i in tqdm.tqdm(miss_classified_samples):\n",
    "    text = shuffled_test_dataset[i]['text']\n",
    "    label = shuffled_test_dataset[i]['label']\n",
    "    predicted = predictions[i]\n",
    "    label_map = {'1' : 'positive', '0' : 'negative', '2' : 'Other'}\n",
    "    question = f\"Why do you think this review from imdb:\\n{text}\\nwas classified {label_map.get(predicted, '2')} by Lamma3 70B when the actual classification was {label_map.get(label, '2')} ?\"\n",
    "\n",
    "    response = api.get_answer(\n",
    "        question,\n",
    "        temperature=0.1,\n",
    "        max_tokens=500,\n",
    "        no_prompt=True\n",
    "    )\n",
    "    responses.append((label, predicted, question, response, text))\n",
    "\n",
    "for i, r in enumerate(responses):\n",
    "    print(f\"############ {i} ############\")\n",
    "    print(r[2], r[3], sep='\\n', end='\\n')\n",
    "    print(f\"#############################\")"
   ]
  }
 ],
 "metadata": {
  "kernelspec": {
   "display_name": "Python 3",
   "language": "python",
   "name": "python3"
  },
  "language_info": {
   "codemirror_mode": {
    "name": "ipython",
    "version": 3
   },
   "file_extension": ".py",
   "mimetype": "text/x-python",
   "name": "python",
   "nbconvert_exporter": "python",
   "pygments_lexer": "ipython3",
   "version": "3.10.6"
  }
 },
 "nbformat": 4,
 "nbformat_minor": 2
}
