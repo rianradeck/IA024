{
 "cells": [
  {
   "cell_type": "markdown",
   "metadata": {},
   "source": [
    "# Aula 9_10 - Exercício: implementação do ReAct para Agentic RAG\n",
    "\n",
    "- Implementar a ReAct  com LLaMa 3 70B (groq)\n",
    "- Testar no dataset do IIRC - 50 primeiras perguntas com resposta (test_questions.json em anexo)\n",
    "- Usar o prompt do LLaMAIndex: https://github.com/run-llama/llama_index/blob/a87b63fce3cc3d24dc71ae170a8d431440025565/llama_index/agent/react/prompts.py\n",
    "- Salvar as respostas finais das 50 perguntas no JSON para exercício futuro de avaliação\n",
    "- Instruir o modelo a seguir a sequência Thougth, Action, Input, Observation (a observação não é do próprio modelo, mas resultado da busca)\n",
    "- É necessário usar o parâmetro stop_sequence=\"Observation:\", para o modelo parar de gerar texto e esperar o retorno da busca. Implementem o código da busca e retornem os top-k documentos pro modelo (sugestão: k=5).\n",
    "- Instruir o modelo agir passo-a-passo (decomposição da pergunta).\n",
    "- Podem usar o LangChain, LLaMAindex ou outro framework. Ou implementar na mão.\n",
    "- Usar a busca como ferramenta\n",
    "- Usar o BM25 como buscador (repetir indexação do exercício passado)\n",
    "- Usar a indexação do Visconde: https://github.com/neuralmind-ai/visconde/blob/main/iirc_create_indices.ipynb\n"
   ]
  },
  {
   "cell_type": "code",
   "execution_count": 1,
   "metadata": {},
   "outputs": [],
   "source": [
    "# Imports\n",
    "import json\n",
    "from bs4 import BeautifulSoup\n",
    "# from rank_bm25 import BM25Okapi\n",
    "from tqdm import tqdm\n",
    "import spacy\n",
    "import os\n",
    "from groq import Groq\n",
    "\n",
    "import argparse\n",
    "import collections\n",
    "import numpy as np\n",
    "\n",
    "import re\n",
    "import string\n",
    "import sys\n",
    "import unicodedata\n",
    "\n",
    "import sentence_transformers\n",
    "from pyserini.search.lucene import LuceneSearcher"
   ]
  },
  {
   "cell_type": "markdown",
   "metadata": {},
   "source": [
    "## Load and process Dataset"
   ]
  },
  {
   "cell_type": "markdown",
   "metadata": {},
   "source": [
    "### Load Data"
   ]
  },
  {
   "cell_type": "code",
   "execution_count": 2,
   "metadata": {},
   "outputs": [],
   "source": [
    "# Load files\n",
    "context_articles_file = open(\"./data/context_articles.json\", \"r\")\n",
    "context_articles = json.load(context_articles_file)\n"
   ]
  },
  {
   "cell_type": "code",
   "execution_count": 3,
   "metadata": {},
   "outputs": [],
   "source": [
    "\n",
    "test_questions_file = open(\"./data/test_questions.json\", \"r\")\n",
    "test_questions = json.load(test_questions_file)"
   ]
  },
  {
   "cell_type": "markdown",
   "metadata": {},
   "source": [
    "### Process data"
   ]
  },
  {
   "cell_type": "code",
   "execution_count": 4,
   "metadata": {},
   "outputs": [
    {
     "name": "stdout",
     "output_type": "stream",
     "text": [
      "{'title': 'arizona', 'content': 'Arizona (; ; ) is a state in the southwestern region of the United States. It is also part of the Western and the Mountain states. It is the 6th largest and the 14th most populous of the 50 states. Its capital and largest city is Phoenix. Arizona shares the Four Corners region with Utah, Colorado, and New Mexico; its other neighboring states are Nevada and California to the west and the Mexican states of Sonora and Baja California to the south and southwest.\\n\\nArizona is the 48th state and last of the contiguous states to be admitted to the Union, achieving statehood on February 14, 1912, coinciding with Valentine\\'s Day. Historically part of the territory of Alta California in New Spain, it became part of independent Mexico in 1821. After being defeated in the Mexican–American War, Mexico ceded much of this territory to the United States in 1848. The southernmost portion of the state was acquired in 1853 through the Gadsden Purchase.\\n\\nSouthern Arizona is known for its desert climate, with very hot summers and mild winters. Northern Arizona features forests of pine, Douglas fir, and spruce trees; the Colorado Plateau; mountain ranges (such as the San Francisco Mountains); as well as large, deep canyons, with much more moderate summer temperatures and significant winter snowfalls. There are ski resorts in the areas of Flagstaff, Alpine, and Tucson. In addition to the internationally known Grand Canyon National Park, which is one of the world\\'s seven natural wonders, there are several national forests, national parks, and national monuments.\\n\\nAbout one-quarter of the state is made up of Indian reservations that serve as the home of 27 federally recognized Native American tribes, including the Navajo Nation, the largest in the state and the United States, with more than 300,000 citizens. Although federal law gave all Native Americans the right to vote in 1924, Arizona excluded those living on reservations in the state from voting until the state Supreme Court ruled in favor of Native American plaintiffs in Trujillo v. Garley (1948).\\n\\nEtymology.The state\\'s name appears to originate from an earlier Spanish name, , derived from the O\\'odham name , meaning \"small spring\", which initially applied only to an area near the silver mining camp of Planchas de Plata, Sonora. To the European settlers, their pronunciation sounded like Arissona. The area is still known as in the O\\'odham language. Another possible origin is the Basque phrase (\\'the good oak\\'), as there were numerous Basque sheepherders in the area. A native Mexican of Basque heritage established the (village) of Arizona between 1734 and 1736 in the current Mexican state of Sonora, which became notable after a significant discovery of silver there, .\\n\\nThere is a misconception that the state\\'s name originated from the Spanish term (\"Arid Zone\").\\n\\nHistory.For thousands of years before the modern era, Arizona was home to many Native American tribes. Hohokam, Mogollon and Ancestral Puebloan cultures were among those that flourished throughout the state. Many of their pueblos, cliffside dwellings, rock paintings and other prehistoric treasures have survived and attract thousands of tourists each year.\\n\\nIn 1539, Marcos de Niza, a Spanish Franciscan, became the first European to contact Native Americans. He explored parts of the present state and made contact with native inhabitants, probably the Sobaipuri. The expedition of Spanish explorer Coronado entered the area in 1540–1542 during its search for Cíbola. Few Spanish settlers migrated to Arizona. One of the first settlers in Arizona was José Romo de Vivar.\\n\\nFather Kino was the next European in the region. A member of the Society of Jesus (\"Jesuits\"), he led the development of a chain of missions in the region. He converted many of the Indians to Christianity in the Pimería Alta (now southern Arizona and northern Sonora) in the 1690s and early 18th century. Spain founded presidios (\"fortified towns\") at Tubac in 1752 and Tucson in 1775.\\n\\nWhen Mexico achieved its independence from the Kingdom of Spain and its Spanish Empire in 1821, what is now Arizona became part of its Territory of Nueva California, (\"New California\"), also known as Alta California (\"Upper California\"). Descendants of ethnic Spanish and mestizo settlers from the colonial years still lived in the area at the time of the arrival of later European-American migrants from the United States.\\nDuring the Mexican–American War (1847–1848), the U.S. Army occupied the national capital of Mexico City and pursued its claim to much of northern Mexico, including what later became Arizona Territory in 1863 and later the State of Arizona in 1912. The Treaty of Guadalupe Hidalgo (1848) specified that, in addition to language and cultural rights of the existing inhabitants of former Mexican citizens being considered as inviolable, the sum of US$15\\xa0million dollars in compensation (.) be paid to the Republic of Mexico. In 1853, the U.S. acquired the land south below the Gila River from Mexico in the Gadsden Purchase along the southern border area as encompassing the best future southern route for a transcontinental railway.\\n\\nWhat is now known as the state of Arizona was initially administered by the United States government as part of the Territory of New Mexico until the southern part of that region seceded from the Union to form the Territory of Arizona. This newly established territory was formally organized by the Confederate States government on Saturday, January 18, 1862, when President Jefferson Davis approved and signed An Act to Organize the Territory of Arizona, marking the first official use of the name \"Territory of Arizona\". The Southern territory supplied the Confederate government with men, horses, and equipment. Formed in 1862, Arizona scout companies served with the Confederate States Army during the Civil War. Arizona has the westernmost military engagement on record during the Civil War with the Battle of Picacho Pass.\\nThe Federal government declared a new U.S. Arizona Territory, consisting of the western half of earlier New Mexico Territory, in Washington, D.C., on February 24, 1863. These new boundaries would later form the basis of the state. The first territorial capital, Prescott, was founded in 1864 following a gold rush to central Arizona. The capital was later moved to Tucson, back to Prescott, and then to its final location in Phoenix in a series of controversial moves as different regions of the territory gained and lost political influence with the growth and development of the territory.\\n\\nAlthough names including \"Gadsonia,\" \"Pimeria,\" \"Montezuma\" and \"Arizuma\" had been considered for the territory, when 16th President Abraham Lincoln signed the final bill, it read \"Arizona,\" and that name was adopted. (Montezuma was not derived from the Aztec emperor, but was the sacred name of a divine hero to the Pima people of the Gila River Valley. It was probably considered—and rejected—for its sentimental value before Congress settled on the name \"Arizona.\")\\n\\nBrigham Young, patriarchal leader of The Church of Jesus Christ of Latter-day Saints in Salt Lake City in Utah, sent Mormons to Arizona in the mid- to late 19th century. They founded Mesa, Snowflake, Heber, Safford, and other towns. They also settled in the Phoenix Valley (or \"Valley of the Sun\"), Tempe, Prescott, and other areas. The Mormons settled what became northern Arizona and northern New Mexico. At the time these areas were in a part of the former New Mexico Territory.\\n\\nDuring the nineteenth century, a series of gold and silver rushes occurred in the territory, the best known being the 1870s stampede to the silver bonanzas of Tombstone, Arizona in southeast Arizona, also known for its legendary outlaws and lawmen. By the late 1880s, copper production eclipsed the precious metals with the rise of copper camps like Bisbee, Arizona and Jerome, Arizona. The boom and bust economy of mining also left hundreds of ghost towns across the territory, but copper mining continued to prosper with the territory producing more copper than any other state by 1907, which earned Arizona the nickname \"the Copper State\" at the time of statehood. During the first years of statehood the industry experienced growing pains and labor disputes with the Bisbee Deportation of 1917 the result of a copper miners’ strike. The state continues to produce half of the nation\\'s newly mined copper.\\n\\n20th century to present.During the Mexican Revolution from 1910 to 1920, several battles were fought in the Mexican towns just across the border from Arizona settlements. Throughout the revolution, many Arizonans enlisted in one of the several armies fighting in Mexico. Only two significant engagements took place on U.S. soil between U.S. and Mexican forces: Pancho Villa\\'s 1916 Columbus Raid in New Mexico, and the Battle of Ambos Nogales in 1918 in Arizona. The Americans won the latter.\\n\\nAfter Mexican federal troops fired on U.S. soldiers, the American garrison launched an assault into Nogales, Mexico. The Mexicans eventually surrendered after both sides sustained heavy casualties. A few months earlier, just west of Nogales, an Indian War battle had occurred, considered the last engagement in the American Indian Wars, which lasted from 1775 to 1918. U.S. soldiers stationed on the border confronted Yaqui Indians who were using Arizona as a base to raid the nearby Mexican settlements, as part of their wars against Mexico.\\n\\nArizona became a U.S. state on February 14, 1912. Arizona was the 48th state admitted to the U.S. and the last of the contiguous states to be admitted.\\n\\nCotton farming and copper mining, two of Arizona\\'s most important statewide industries, suffered heavily during the Great Depression. But during the 1920s and even the 1930s, tourism began to develop as the important Arizonan industry it is today. Dude ranches, such as the K L Bar and Remuda in Wickenburg, along with the Flying V and Tanque Verde in Tucson, gave tourists the chance to take part in the flavor and activities of the \"Old West.\" Several upscale hotels and resorts opened during this period, some of which are still top tourist draws. They include the Arizona Biltmore Hotel in central Phoenix (opened 1929) and the Wigwam Resort on the west side of the Phoenix area (opened 1936).\\n\\nArizona was the site of German prisoner of war camps during World War II and Japanese American internment camps. Because of wartime fears of a Japanese invasion of the U.S. West Coast (which in fact materialized in the Aleutian Islands Campaign in June 1942), the government authorized the removal of all Japanese American residents from all of the Alaska Territory and California, the western halves of Washington and Oregon, and Southern Arizona. From 1942 to 1945, they were forced to reside in internment camps built in the interior of the country. Many lost their homes and businesses. The camps were abolished after World War II.\\n\\nThe Phoenix-area German P.O.W. site was purchased after the war by the Maytag family (of major home appliance fame). It was developed as the site of the Phoenix Zoo. A Japanese-American internment camp was on Mount Lemmon, just outside the state\\'s southeastern city of Tucson. Another POW camp was near the Gila River in eastern Yuma County.\\n\\nArizona was also home to the Phoenix Indian School, one of several federal Indian boarding schools designed to assimilate Native American children into mainstream European-American culture. Children were often enrolled into these schools against the wishes of their parents and families. Attempts to suppress native identities included forcing the children to cut their hair, to take and use English names, to speak only English, and to practice Christianity rather than their native religions.\\n\\nNumerous Native Americans from Arizona fought for the United States during World War II. Their experiences resulted in a rising activism in the postwar years to achieve better treatment and civil rights after their return to the state. After Maricopa County did not allow them to register to vote, in 1948 veteran Frank Harrison and Harry Austin, of the Mojave-Apache Tribe at Fort McDowell Indian Reservation, brought a legal suit, Harrison and Austin v. Laveen, to challenge this exclusion. The Arizona Supreme Court ruled in their favor.\\n\\nArizona\\'s population grew tremendously with residential and business development after World War II, aided by the widespread use of air conditioning, which made the intensely hot summers more comfortable. According to the Arizona Blue Book (published by the Arizona Secretary of State\\'s office each year), the state population in 1910 was 294,353. By 1970, it was 1,752,122. The percentage growth each decade averaged about 20% in the earlier decades, and about 60% each decade thereafter.\\n\\nIn the 1960s, retirement communities were developed. These age-restricted subdivisions catered exclusively to the needs of senior citizens and attracted many retirees who wanted to escape the harsh winters of the Midwest and the Northeast. Sun City, established by developer Del Webb and opened in 1960, was one of the first such communities. Green Valley, south of Tucson, was another such community, designed as a retirement subdivision for Arizona\\'s teachers. Many senior citizens from across the U.S. and Canada come to Arizona each winter and stay only during the winter months; they are referred to as snowbirds.\\n\\nIn March 2000, Arizona was the site of the first legally binding election ever held over the internet to nominate a candidate for public office. In the 2000 Arizona Democratic Primary, under worldwide attention, Al Gore defeated Bill Bradley. Voter turnout in this state primary increased more than 500% over the 1996 primary.\\n\\nThree ships named USS Arizona have been christened in honor of the state, although only USS Arizona (BB-39) was so named after statehood was achieved.\\n\\nGeography and geology.Arizona is in the Southwestern United States as one of the Four Corners states. Arizona is the sixth largest state by area, ranked after New Mexico and before Nevada. Of the state\\'s 113998 sqmi, approximately 15% is privately owned. The remaining area is public forest and park land, state trust land and Native American reservations.\\n\\nArizona is well known for its desert Basin and Range region in the state\\'s southern portions, which is rich in a landscape of xerophyte plants such as the cactus. This region\\'s topography was shaped by prehistoric volcanism, followed by the cooling-off and related subsidence. Its climate has exceptionally hot summers and mild winters. The state is less well known for its pine-covered north-central portion of the high country of the Colorado Plateau (see Arizona Mountains forests).\\n\\nLike other states of the Southwest United States, Arizona has an abundance of mountains and plateaus. Despite the state\\'s aridity, 27% of Arizona is forest, a percentage comparable to modern-day France or Germany . The world\\'s largest stand of ponderosa pine trees is in Arizona.\\n\\nThe Mogollon Rim, a 1998 ft escarpment, cuts across the state\\'s central section and marks the southwestern edge of the Colorado Plateau. In 2002, this was an area of the Rodeo–Chediski Fire, the worst fire in state history.\\n\\nLocated in northern Arizona, the Grand Canyon is a colorful, deep, steep-sided gorge, carved by the Colorado River. The canyon is one of the seven natural wonders of the world and is largely contained in the Grand Canyon National Park—one of the first national parks in the United States. President Theodore Roosevelt was a major proponent of designating the Grand Canyon area as a National Park, often visiting to hunt mountain lion and enjoy the scenery. The canyon was created by the Colorado River cutting a channel over millions of years, and is about 277 mi long, ranges in width from 4 to 18 mi and attains a depth of more than 1 mi. Nearly two billion years of the Earth\\'s history have been exposed as the Colorado River and its tributaries cut through layer after layer of sediment as the Colorado Plateau uplifted.\\n\\nArizona is home to one of the most well-preserved meteorite impact sites in the world. Created around 50,000 years ago, the Barringer Meteorite Crater (better known simply as \"Meteor Crater\") is a gigantic hole in the middle of the high plains of the Colorado Plateau, about 25 mi west of Winslow. A rim of smashed and jumbled boulders, some of them the size of small houses, rises 150 ft above the level of the surrounding plain. The crater itself is nearly 1 mi wide, and 570 ft deep.\\n\\nArizona is one of two U.S. states that do not observe Daylight Saving Time (the other being Hawaii). The exception is within the large Navajo Nation (which observes Daylight Saving Time), in the state\\'s northeastern region.\\n\\nEarthquakes.Generally, Arizona is at low risk of earthquakes, except for the southwestern portion which is at moderate risk due to its proximity to southern California. On the other hand, northern Arizona is at moderate risk due to numerous faults in the area. The regions near and west of Phoenix have the lowest risk.\\n\\nThe earliest Arizona earthquakes were recorded at Fort Yuma, on the California side of the Colorado River. They were centered near the Imperial Valley, or Mexico, back in the 1800s. Residents in Douglas felt the 1887 Sonora earthquake with its epicenter to the south in the Mexican state of Sonora. The first damaging earthquake known to be centered within Arizona occurred on January 25, 1906, also including a series of other earthquakes centered near Socorro, New Mexico. The shock was violent in Flagstaff.\\n\\nIn September 1910, a series of 52 earthquakes caused a construction crew near Flagstaff to leave the area. In 1912, the year Arizona achieved statehood, on August 18, an earthquake caused a 50-mile crack in the San Francisco Range. In early January 1935, the state experienced a series of earthquakes, in the Yuma area and near the Grand Canyon. Arizona experienced its largest earthquake in 1959, with a tremor of a magnitude 5.6. It was centered near Fredonia, in the state\\'s northwest near the border with Utah. The tremor was felt across the border in Nevada and Utah.\\n\\nAdjacent states.- Utah (north)\\n- Colorado (northeast)\\n- Nevada (northwest)\\n- Sonora, Mexico (south)\\n- Baja California, Mexico (southwest)\\n- New Mexico (east)\\n- California (west)\\n\\nClimate.Due to its large area and variations in elevation, the state has a wide variety of localized climate conditions. In the lower elevations, the climate is primarily desert, with mild winters and extremely hot summers. Typically, from late fall to early spring, the weather is mild, averaging a minimum of 60 °F. November through February are the coldest months, with temperatures typically ranging from 40 to 75 °F, with occasional frosts.\\n\\nAbout midway through February, the temperatures start to rise, with warm days, and cool, breezy nights. The summer months of June through September bring a dry heat from 90 to 120 °F, with occasional high temperatures exceeding 125 °F having been observed in the desert area. Arizona\\'s all-time record high is 128 °F recorded at Lake Havasu City on June 29, 1994, and July 5, 2007; the all-time record low of -40 °F was recorded at Hawley Lake on January 7, 1971.\\n\\nDue to the primarily dry climate, large diurnal temperature variations occur in less-developed areas of the desert above 2500 feet. The swings can be as large as 83\\xa0°F (46\\xa0°C) in the summer months. In the state\\'s urban centers, the effects of local warming result in much higher measured night-time lows than in the recent past.\\n\\nArizona has an average annual rainfall of 12.7 in, which comes during two rainy seasons, with cold fronts coming from the Pacific Ocean during the winter and a monsoon in the summer. The monsoon season occurs toward the end of summer. In July or August, the dewpoint rises dramatically for a brief period. During this time, the air contains large amounts of water vapor. Dewpoints as high as 81\\xa0°F (27\\xa0°C) have been recorded during the Phoenix monsoon season. This hot moisture brings lightning, thunderstorms, wind, and torrential, if usually brief, downpours. These downpours often cause flash floods, which can turn deadly. In an attempt to deter drivers from crossing flooding streams, the Arizona Legislature enacted the Stupid Motorist Law. It is rare for tornadoes or hurricanes to occur in Arizona.\\n\\nArizona\\'s northern third is a plateau at significantly higher altitudes than the lower desert, and has an appreciably cooler climate, with cold winters and mild summers, though the climate remains semiarid to arid. Extremely cold temperatures are not unknown; cold air systems from the northern states and Canada occasionally push into the state, bringing temperatures below 0 °F to the state\\'s northern parts.\\n\\nIndicative of the variation in climate, Arizona is the state which has both the metropolitan area with the most days over 100 °F (Phoenix), and the metropolitan area in the lower 48 states with the most days with a low temperature below freezing (Flagstaff).\\n\\nDemographics.The United States Census Bureau estimates Arizona\\'s population was 7,171,646 on July 1, 2018, a 12.2% increase since the 2010 United States Census.\\n\\nArizona remained sparsely settled for most of the 19th century. The 1860 census reported the population of \"Arizona County\" to be 6,482, of whom 4,040 were listed as \"Indians\", 21 as \"free colored\", and 2,421 as \"white\". Arizona\\'s continued population growth puts an enormous stress on the state\\'s water supply. , 61.3% of Arizona\\'s children under the age of 1 belonged to minority groups.\\n\\nThe population of metropolitan Phoenix increased by 45.3% from 1991 through 2001, helping to make Arizona the second fastest-growing state in the U.S. in the 1990s (the fastest was Nevada). , the population of the Phoenix area is estimated to be over 4.7 million.\\n\\nAccording to the 2010 United States Census, Arizona had a population of 6,392,017. In 2010, illegal immigrants constituted an estimated 7.9% of the population. This was the second highest percentage of any state in the U.S. Arizona has banned sanctuary cities.\\n\\nMetropolitan Phoenix (4.7 million) and Tucson (1 million) are home to about five-sixths of Arizona\\'s people (as of the 2010 census). Metro Phoenix alone accounts for two-thirds of the state\\'s population.\\n\\nRace and ethnicity.In 1980, the Census Bureau reported Arizona\\'s population as 16.2% Hispanic, 5.6% Native American, and 74.5% non-Hispanic white. In 2010, the racial makeup of the state was:\\n- 73.0% White\\n- 4.6% Native American and Alaska Native\\n- 4.1% Black or African American\\n- 2.8% Asian\\n- 0.2% Native Hawaiian and Other Pacific Islander\\n- 11.9% from some other race\\n- 3.4% from two or more races.\\n\\nHispanics or Latinos of any race made up 29.6% of the state\\'s population. Non-Hispanic whites formed 57.8% of the total population.\\n\\nArizona\\'s five largest ancestry groups, , were:\\n1. Mexican (27.4%);\\n2. German (16.0%);\\n3. Irish (10.8%);\\n4. English (10.1%);\\n5. Italian (4.6%).\\n\\nLanguages., 72.9% (4,215,749) of Arizona residents age 5 and older spoke English at home as a primary language, while 20.8% (1,202,638) spoke Spanish, 1.5% (85,602) Navajo, 0.4% (22,592) German, 0.4% (22,426) Chinese (which includes Mandarin), 0.3% (19,015) Tagalog, 0.3% (17,603) Vietnamese, 0.3% (15,707) Other North American Indigenous Languages (especially indigenous languages of Arizona), and French was spoken as a main language by 0.3% (15,062) of the population over the age of five. In total, 27.1% (1,567,548) of Arizona\\'s population age 5 and older spoke a mother language other than English.\\n\\nArizona is home to the largest number of speakers of Native American languages in the 48 contiguous states, as over 85,000 individuals reported speaking Navajo, and 10,403 people reported Apache, as a language spoken at home in 2005. Arizona\\'s Apache County has the highest concentration of speakers of Native American Indian languages in the United States.\\n\\nCities and towns.Phoenix, in Maricopa County, is Arizona\\'s capital and largest city. Other prominent cities in the Phoenix metro area include Mesa (Arizona\\'s third largest city), Chandler (Arizona\\'s fourth largest city), Glendale, Peoria, Buckeye, Sun City, Sun City West, Fountain Hills, Surprise, Gilbert, El Mirage, Avondale, Tempe, Tolleson and Scottsdale, with a total metropolitan population of just over 4.7\\xa0million. The average high temperature in July, 106 °F, is one of the highest of any metropolitan area in the United States, offset by an average January high temperature of 67 °F, the basis of its winter appeal.\\n\\nTucson, with a metro population of just over one million, is the state\\'s second-largest city. Located in Pima County, approximately 110 mi southeast of Phoenix, it was incorporated in 1877, making it the oldest incorporated city in Arizona. It is home to the University of Arizona. Major incorporated suburbs of Tucson include Oro Valley and Marana northwest of the city, Sahuarita south of the city, and South Tucson in an enclave south of downtown. It has an average July temperature of 100\\xa0°F (38\\xa0°C) and winter temperatures averaging 65\\xa0°F (18\\xa0°C). Saguaro National Park, just west of the city in the Tucson Mountains, is the site of the world\\'s largest collection of Saguaro cacti.\\n\\nThe Prescott metropolitan area includes the cities of Prescott, Cottonwood, Camp Verde and many other towns in the 8123 sqmi of Yavapai County area. With 212,635 residents, this cluster of towns is the state\\'s third largest metropolitan area. The city of Prescott (population 41,528) lies approximately 100 mi northwest of the Phoenix metropolitan area. Situated in pine tree forests at an elevation of about 5500 ft, Prescott enjoys a much cooler climate than Phoenix, with average summer highs around 88 °F and winter temperatures averaging 50 °F.\\n\\nYuma is center of the fourth-largest metropolitan area in Arizona. Located in Yuma County, it is near the borders of California and Mexico. It is one of the hottest cities in the United States, with an average July high of 107 F. (The same month\\'s average in Death Valley is 115 F.) The city features sunny days about 90% of the year. The Yuma Metropolitan Statistical Area has a population of 160,000. Yuma attracts many winter visitors from all over the United States.\\n\\nFlagstaff, in Coconino County, is the largest city in northern Arizona, and is at an elevation of nearly 7000 ft. With its large Ponderosa pine forests, snowy winter weather and picturesque mountains, it is a stark contrast to the desert regions typically associated with Arizona. It is sited at the base of the San Francisco Peaks, the highest mountain range in the state of Arizona, which contain Humphreys Peak, the highest point in Arizona at 12633 ft. Flagstaff has a strong tourism sector, due to its proximity to numerous tourist attractions including: Grand Canyon National Park, Sedona, and Oak Creek Canyon. Historic U.S. Route 66 is the main east-west street in the town. The Flagstaff metropolitan area is home to 134,421 residents and the main campus of Northern Arizona University.\\n\\nLake Havasu City, in Mohave County, known as \"Arizona\\'s playground,\" was developed on the Colorado River and is named after Lake Havasu. Lake Havasu City has a population of about 53,000 people. It is famous for huge spring break parties, sunsets and the London Bridge, relocated from London, England. Lake Havasu City was founded by real estate developer Robert P. McCulloch in 1963. It has two colleges, Mohave Community College and ASU Colleges in Lake Havasu City.\\n\\nReligion.In 2010, the Association of Religion Data Archives reported that the three largest denominational groups in Arizona were the Catholic Church, The Church of Jesus Christ of Latter-Day Saints and non-denominational Evangelical Protestants. The Catholic Church has the highest number of adherents in Arizona (at 930,001), followed by The Church of Jesus Christ of Latter-day Saints with 410,263 members reported and then non-denominational Evangelical Protestants, reporting 281,105 adherents. The religious body with the largest number of congregations is The Church of Jesus Christ of Latter-day Saints (with 836 congregations) followed by the Southern Baptist Convention (with 323 congregations).\\n\\nAccording to the Association of Religion Data Archives, the fifteen largest denominations by number of adherents in 2010 and 2000 were:\\nRegarding non-Christian denominations, Hinduism became the largest non-Christian religion (when combining all denominations) in 2010, with over 32,000 adherents in several denominations, followed by Judaism with over 20,000 in three denominations, and Buddhism with over 19,000 adherents in several denominations.\\n\\nEconomy.The 2011 total gross state product was $259\\xa0billion. This figure gives Arizona a larger economy than such countries as Ireland, Finland, and New Zealand. The composition of the state\\'s economy is moderately diverse; although health care, transportation and the government remain the largest sectors.\\n\\nThe state\\'s per capita income is $40,828, ranking 39th in the U.S. The state had a median household income of $50,448, making it 22nd in the country and just below the U.S. national mean. Early in its history, Arizona\\'s economy relied on the \"five C\\'s\": copper (see Copper mining in Arizona), cotton, cattle, citrus, and climate (tourism). Copper is still extensively mined from many expansive open-pit and underground mines, accounting for two-thirds of the nation\\'s output.\\n\\nEmployment.Total employment 2016\\n- 2,379,409\\nTotal employer establishments 2016\\n- 139,134\\nThe state government is Arizona\\'s largest employer, while Banner Health is the state\\'s largest private employer, with over 39,000 employees (2016). , the state\\'s unemployment rate was 5.4%.\\n\\nThe top employment sectors in Arizona are (August 2014, excludes agriculture):\\nLargest employers.According to The Arizona Republic, the largest private employers in the state were:\\n\\nTaxation.Arizona collects personal income taxes in five brackets: 2.59%, 2.88%, 3.36%, 4.24% and 4.54%. The state transaction privilege tax is 5.6%; however, county and municipal sales taxes generally add an additional 2%.\\n\\nThe state rate on transient lodging (hotel/motel) is 7.27%. The state of Arizona does not levy a state tax on food for home consumption or on drugs prescribed by a licensed physician or dentist. However, some cities in Arizona do levy a tax on food for home consumption.\\n\\nAll fifteen Arizona counties levy a tax. Incorporated municipalities also levy transaction privilege taxes which, with the exception of their hotel/motel tax, are generally in the range of 1-to-3%. These added assessments could push the combined sales tax rate to as high as 10.7%.\\n\\nU.S. routes.Main Interstate routes include I-17, and I-19 traveling north-south, I-8, I-10, and I-40, traveling east-west, and a short stretch of I-15 traveling northeast–southwest through the extreme northwestern corner of the state. In addition, the various urban areas are served by complex networks of state routes and highways, such as the Loop 101, which is part of Phoenix\\'s vast freeway system.\\n\\nPublic transportation, Amtrak, and intercity bus.The Phoenix and Tucson metropolitan areas are served by public bus transit systems. Yuma and Flagstaff also have public bus systems. Greyhound Lines serves Phoenix, Tucson, Flagstaff, Yuma, and several smaller communities statewide.\\n\\nA light rail system, called Valley Metro Rail, was completed in December 2008; it connects Central Phoenix with the nearby cities of Mesa and Tempe.\\n\\nIn Tucson, the Sun Link streetcar system travels through the downtown area, connecting the main University of Arizona campus with Mercado San Agustin on the western edge of downtown Tucson. Sun Link, loosely based on the Portland Streetcar, launched in July 2014.\\n\\nAmtrak Southwest Chief route serves the northern part of the state, stopping at Winslow, Flagstaff, Williams and Kingman. The Texas Eagle and Sunset Limited routes serve South-Central Arizona, stopping at Tucson, Maricopa, Yuma and Benson. Phoenix lost Amtrak service in 1996 with the discontinuation of the Desert Wind, and now an Amtrak bus runs between Phoenix and the station in Maricopa.\\n\\nAviation.Airports with regularly scheduled commercial flights include: Phoenix Sky Harbor International Airport (IATA: PHX, ICAO: KPHX) in Phoenix (the state\\'s largest airport and the major international airport); Tucson International Airport (IATA: TUS, ICAO: KTUS) in Tucson; Phoenix-Mesa Gateway Airport (IATA: AZA, ICAO: KIWA) in Mesa; Yuma International Airport (IATA: NYL, ICAO: KNYL) in Yuma; Prescott Municipal Airport (PRC) in Prescott; Flagstaff Pulliam Airport (IATA: FLG, ICAO: KFLG) in Flagstaff, and Grand Canyon National Park Airport (IATA: GCN, ICAO: KGCN, FAA: GCN), a small, but busy, single-runway facility providing tourist flights, mostly from Las Vegas. Phoenix Sky Harbor is the world\\'s 7th busiest airport in terms of aircraft movements and 17th for passenger traffic.\\n\\nOther significant airports without regularly scheduled commercial flights include Scottsdale Municipal Airport (IATA: SCF, ICAO: KSDL) in Scottsdale, and Deer Valley Airport (IATA: DVT, ICAO: KDVT, FAA: DVT) home to two flight training academies and the nation\\'s busiest general aviation airport.\\n\\nCapitol complex.The state capital of Arizona is Phoenix. The original Capitol building, with its distinctive copper dome, was dedicated in 1901 (construction was completed for $136,000 in 1900), when the area was a territory. Phoenix became the official state capital with Arizona\\'s admission to the union in 1912.\\n\\nThe House of Representatives and Senate buildings were dedicated in 1960, and an Executive Office Building was dedicated in 1974 (the ninth floor of this building is where the Office of the Governor is located). The original Capitol building was converted into a museum.\\n\\nThe Capitol complex is fronted and highlighted by the richly landscaped Wesley Bolin Memorial Plaza, named after Wesley Bolin, a governor who died in office in the 1970s. The site also includes many monuments and memorials, including the anchor and signal mast from the USS Arizona (one of the U.S. Navy ships sunk in Pearl Harbor) and a granite version of the Ten Commandments.\\n\\nState legislative branch.The Arizona Legislature is bicameral (like the legislature of every other state except Nebraska) and consists of a thirty-member Senate and a 60-member House of Representatives. Each of the thirty legislative districts has one senator and two representatives. Legislators are elected for two-year terms.\\n\\nEach Legislature covers a two-year period. The first session following the general election is known as the first regular session, and the session convening in the second year is known as the second regular session. Each regular session begins on the second Monday in January and adjourns sine die (terminates for the year) no later than Saturday of the week in which the 100th day from the beginning of the regular session falls. The President of the Senate and Speaker of the House, by rule, may extend the session up to seven additional days. Thereafter, the session can only be extended by a majority vote of members present of each house.\\n\\nThe majority party is the Republican Party, which has held power in both houses since 1993. The Democratic Party picked up several legislative seats in Arizona State House bringing Democratic Leader Charlene Fernandez 1 seat shy of a majority (31 to 29).\\n\\nArizona state senators and representatives are elected for two-year terms and are limited to four consecutive terms in a chamber, though there is no limit on the total number of terms. When a lawmaker is term-limited from office, it is not uncommon for him or her to run for election in the other chamber.\\n\\nThe fiscal year 2006–07 general fund budget, approved by the Arizona Legislature in June 2006, is slightly less than $10\\xa0billion. Besides the money spent on state agencies, it also includes more than $500\\xa0million in income- and property tax cuts, pay raises for government employees, and additional funding for the K–12 education system.\\n\\nState executive branch.Arizona\\'s executive branch is headed by a governor, who is elected to a four-year term. The governor may serve any number of terms, though no more than two in a row. Arizona is one of the few states that does not maintain a governor\\'s mansion. During office the governors reside within their private residence, and all executive offices are housed in the executive tower at the state capitol. The governor of Arizona is Doug Ducey (R).\\n\\nFormer Governor Jan Brewer assumed office after Janet Napolitano had her nomination by Barack Obama for Secretary of Homeland Security confirmed by the United States Senate. Arizona has had four female governors, more than any other state.\\n\\nOther elected executive officials include the Secretary of State, State Treasurer, State Attorney General, Superintendent of Public Instruction, State Mine Inspector and a five-member Corporation Commission. All elected officials hold a term of four years, and are limited to two consecutive terms (except the office of the State Mine Inspector, which is limited to 4 terms).\\n\\nArizona is one of five states that do not have a specified lieutenant governor. The secretary of state is the first in line to succeed the governor in the event of death, disability, resignation, or removal from office. The line of succession also includes the attorney general, state treasurer and superintendent of public instruction. Since 1977, four secretaries of state and one attorney general have risen to Arizona\\'s governorship through these means.\\n\\nState judicial branch.The Arizona Supreme Court is the highest court in Arizona. The court consists of one chief justice, a vice chief justice, and three associate justices. Justices are appointed by the governor from a list recommended by a bipartisan commission, and are re-elected after the initial two years following their appointment. Subsequent re-elections occur every six years. The supreme court has appellate jurisdiction in death penalty cases, but almost all other appellate cases go through the Arizona Court of Appeals beforehand. The court has original jurisdiction in a few other circumstances, as outlined in the state constitution. The court may also declare laws unconstitutional, but only while seated en banc. The court meets in the Arizona Supreme Court Building at the capitol complex (at the southern end of Wesley Bolin Plaza).\\n\\nThe Arizona Court of Appeals, further divided into two divisions, is the intermediate court in the state. Division One is based in Phoenix, consists of sixteen judges, and has jurisdiction in the Western and Northern regions of the state, along with the greater Phoenix area. Division Two is based in Tucson, consists of six judges, and has jurisdiction over the Southern regions of the state, including the Tucson area. Judges are selected in a method similar to the one used for state supreme court justices.\\n\\nEach county of Arizona has a superior court, the size and organization of which are varied and generally depend on the size of the particular county.\\n\\nCounties.Arizona is divided into political jurisdictions designated as counties. There are 15 counties in the state, ranging in size from 1238 sqmi to 18661 sqmi.\\n\\nFederal representation.Arizona\\'s two United States Senators are Kyrsten Sinema (D) and Martha McSally (R). McSally, after losing to Sinema was appointed by Governor Ducey to succeed acting senator Jon Kyl to fill the spot formerly occupied by the late six-term senior Senator John McCain, who died August 25, 2018. Senator McSally, will serve in office until a special election in 2020.\\n\\nAs of the start of the 115th Congress, Arizona\\'s representatives in the United States House of Representatives are Tom O\\'Halleran (D-1), Ann Kirkpatrick (D-2), Raul Grijalva (D-3), Paul Gosar (R-4), Andy Biggs (R-5), David Schweikert (R-6), Ruben Gallego (D-7), Debbie Lesko (R-8), and Greg Stanton (D-9). Arizona gained a ninth seat in the House of Representatives due to redistricting based on Census 2010.\\n\\nPolitical culture.From statehood through the late 1940s, Arizona was primarily dominated by the Democratic Party. During this time period, the Democratic candidate for the presidency carried the state each election, with the only exceptions being the elections of 1920, 1924 and 1928—all three of which were national Republican landslides.\\n\\nIn 1924, Congress had passed a law granting citizenship and suffrage to all Native Americans, some of whom had previously been excluded as members of tribes on reservations. Legal interpretations of Arizona\\'s constitution prohibited Native Americans living on reservations from voting, classifying them as being under \"guardianship.\" This interpretation was overturned as being incorrect and unconstitutional in 1948 by the Arizona Supreme Court, following a suit by World War II Indian veterans Frank Harrison and Harry Austin, both of the Fort McDowell Yavapai Nation. The landmark case is Harrison and Austin v. Laveen. After the men were refused the opportunity to register in Maricopa County, they filed suit against the registrar. The National Congress of American Indians, the Department of Justice, the Department of the Interior, and the American Civil Liberties Union all filed amicus curiae (friends of the court) briefs in the case. The State Supreme Court established the rights of Native Americans to vote in the state; at the time, they comprised about 11% of the population. That year, a similar provision was overturned in New Mexico when challenged by another Indian veteran in court. These were the only two states that had continued to prohibit Native Americans from voting.\\n\\nSince the election of Dwight D. Eisenhower in 1952, the majority of state voters have favored Republicans in presidential elections. Arizona voted Republican in every presidential election from 1952 to 1992, with Richard Nixon and Ronald Reagan winning the state by particularly large margins. During this forty-year span, it was the only state not to be carried by a Democrat at least once.\\n\\nDemocrat Lyndon Johnson, in 1964, lost the state by less than 5,000 votes to Arizona Senator and native Barry Goldwater. (This was the most closely contested state in what was otherwise a landslide victory for Johnson that year.) Democrat Bill Clinton ended this streak in 1996, when he won Arizona by a little over two percentage points (Clinton had previously come within less than two percent of winning Arizona\\'s electoral votes in 1992). Since then, the majority of the state has continued to support Republican presidential candidates by solid margins.\\n\\nSince the late 20th century, the Republican Party has also dominated Arizona politics in general. The fast-growing Phoenix and Tucson suburbs became increasingly friendly to Republicans from the 1950s onward. During this time, many \"Pinto Democrats,\" or conservative Democrats from rural areas, became increasingly willing to support Republicans at the state and national level. While the state normally supports Republicans at the federal level, Democrats are often competitive in statewide elections. Two of the last six governors have been Democrats.\\n\\nOn March 4, 2008, Senator John McCain effectively clinched the Republican nomination for 2008, becoming the first presidential nominee from the state since Barry Goldwater in 1964.\\n\\nArizona politics are dominated by a longstanding rivalry between its two largest counties, Maricopa and Pima—home to Phoenix and Tucson, respectively. The two counties have almost 75 percent of the state\\'s population and cast almost 80 percent of the state\\'s vote. They also elect a substantial majority of the state legislature.\\n\\nMaricopa County is home to almost 60 percent of the state\\'s population, and most of the state\\'s elected officials live there. It has voted Republican in every presidential election since 1948. This includes the 1964 run of native son Barry Goldwater; he would not have carried his home state without his 20,000-vote margin in Maricopa County. Similarly, while McCain won Arizona by eight percentage points in 2008, aided by his 130,000-vote margin in Maricopa County.\\n\\nIn contrast, Pima County, home to Tucson, and most of southern Arizona have historically voted more Democratic. While Tucson\\'s suburbs lean Republican, they hold to a somewhat more moderate brand of Republicanism than is common in the Phoenix area.\\nArizona rejected a same-sex marriage ban in a referendum as part of the 2006 elections. Arizona was the first state in the nation to do so. Same-sex marriage was not recognized in Arizona, but this amendment would have denied any legal or financial benefits to unmarried homosexual or heterosexual couples. In 2008, Arizona voters passed Proposition 102, an amendment to the state constitution to define marriage as a union of one man and one woman. It passed by a more narrow majority than similar votes in a number of other states.\\n\\nIn 2010, Arizona passed SB 1070, called the toughest illegal immigration legislation in the nation. A fierce debate erupted between supporters and detractors of the law.\\n\\nThe United States Supreme Court heard arguments March 18, 2013, regarding the validity of the Arizona law, which requires individuals to show documents proving U.S. citizenship in order to register to vote in national elections.\\n\\nThe West Virginia teachers\\' strike in 2018 inspired teachers in other states, including Arizona, to take similar action.\\n\\nSame-sex marriage and civil unions.In 2006, Arizona became the first state in the United States to reject a proposition, Prop 107, that would have banned same-sex marriage and civil unions. However, in 2008, Arizona voters approved of Prop 102, a constitutional amendment that prohibited same-sex marriage but not other unions. Prior to same-sex marriage being legal, the City of Bisbee became the first jurisdiction in Arizona to approve of civil unions. The state\\'s Attorney General at the time, Tom Horne, threatened to sue, but rescinded the threat once Bisbee amended the ordinance; Bisbee approved of civil unions in 2013. The municipalities of Clarkdale, Cottonwood, Jerome, Sedona, and Tucson also passed civil unions.\\n\\nA November 2011 Public Policy Polling survey found 44% of Arizona voters supported the legalization of same-sex marriage, while 45% opposed it and 12% were not sure. A separate question on the same survey found 72% of respondents supported legal recognition of same-sex couples, with 40% supporting same-sex marriage, 32% supporting civil unions, 27% opposing all legal recognition and 1% not sure. Arizona Proposition 102, known by its supporters as the Marriage Protection Amendment, appeared as a legislatively referred constitutional amendment on the November 4, 2008 ballot in Arizona, where it was approved: 56.2%–43%. It amended the Arizona Constitution to define marriage as between one man and one woman.\\n\\nOn October 17, 2014, Arizona Attorney General Tom Horne announced his office would no longer object to same-sex marriage, in response to a U.S. District Court Ruling on Arizona Proposition 102. On that day, each county\\'s Clerk of the Superior Court began to issue same-sex marriage licenses, and Arizona became the 31st state to legalize same-sex marriage.\\n\\nElementary and secondary education.Public schools in Arizona are separated into about 220 local school districts which operate independently, but are governed in most cases by elected county school superintendents; these are in turn overseen by the Arizona State Board of Education (a division of the Arizona Department of Education) and the state Superintendent of Public Instruction (elected in partisan elections every even-numbered year when there is not a presidential election, for a four-year term). In 2005, a School District Redistricting Commission was established with the goal of combining and consolidating many of these districts.\\n\\nHigher education.Arizona is served by three public universities: The University of Arizona, Arizona State University, and Northern Arizona University. These schools are governed by the Arizona Board of Regents.\\n\\nPrivate higher education in Arizona is dominated by a large number of for-profit and \"chain\" (multi-site) universities.\\n\\nEmbry–Riddle Aeronautical University, Prescott and Prescott College are Arizona\\'s only non-profit four-year private colleges.\\n\\nArizona has a wide network of two-year vocational schools and community colleges. These colleges were governed historically by a separate statewide Board of Directors but, in 2002, the state legislature transferred almost all oversight authority to individual community college districts. The Maricopa County Community College District includes 11 community colleges throughout Maricopa County and is one of the largest in the nation.\\n\\nPublic universities in Arizona.- Arizona State University, (Sun Devils) Tempe/Phoenix/Mesa/Glendale/Lake Havasu\\n- Northern Arizona University, (Lumberjacks) Flagstaff/Yuma/Prescott\\n- University of Arizona, (Wildcats) Tucson/Sierra Vista, M.D. college in downtown Phoenix and UA Agricultural Center in Yuma/Maricopa\\n\\nPrivate colleges and universities in Arizona.- American Indian College\\n- Carrington College\\n- Arizona Christian University\\n- Art Center College of Design\\n- Art Institute of Tucson\\n- Art Institute of Phoenix\\n- A.T. Still University\\n- Brookline College\\n- Brown Mackie College\\n- Collins College\\n- Embry-Riddle Aeronautical University\\n- Grand Canyon University\\n- International Baptist College\\n- Midwestern University\\n- Northcentral University\\n- Ottawa University\\n- University of Phoenix\\n- Penn Foster College\\n- Prescott College\\n- Southwest College of Naturopathic Medicine\\n- Thunderbird School of Global Management\\n- University of Advancing Technology\\n- Western Governors University\\n- Western International University\\n\\nCommunity colleges.- Arizona Western College\\n- Central Arizona College\\n- Cochise College\\n- Coconino Community College\\n- Diné College\\n- Eastern Arizona College\\n- Chandler-Gilbert Community College\\n- Estrella Mountain Community College\\n- GateWay Community College\\n- Glendale Community College\\n- Maricopa County Community College District\\n- Mesa Community College\\n- Mohave Community College\\n- Northland Pioneer College\\n- Paradise Valley Community College\\n- Phoenix College\\n- Pima Community College\\n- Rio Salado Community College\\n- Scottsdale Community College\\n- South Mountain Community College\\n- Yavapai College\\n\\nVisual arts and museums.Phoenix Art Museum, on the historic Central Avenue corridor in Phoenix, is the Southwest\\'s largest collection of visual art from across the world. The museum displays international exhibitions alongside the museum\\'s collection of more than 18,000 works of American, Asian, European, Latin American, Western American, modern and contemporary art, and fashion design. With a community education mandate since 1951, Phoenix Art Museum holds a year-round program of festivals, live performances, independent art films and educational programs. The museum also has PhxArtKids, an interactive space for children; photography exhibitions through the museum\\'s partnership with the Center for Creative Photography; the landscaped Sculpture Garden and dining at Arcadia Farms.\\n\\nArizona is a recognized center of Native American art, with a number of galleries showcasing historical and contemporary works. The Heard Museum, also in Phoenix, is a major repository of Native American art. Some of the signature exhibits include a full Navajo hogan, the Mareen Allen Nichols Collection containing 260 pieces of contemporary jewelry, the Barry Goldwater Collection of 437 historic Hopi kachina dolls, and an exhibit on the 19th century boarding school experiences of Native Americans. The Heard Museum has about 250,000 visitors a year.\\n\\nSedona, Jerome, and Tubac are known as a budding artist colonies, and small arts scenes exist in the larger cities and near the state universities.\\n\\nFilm.Several major Hollywood films, such as Billy Jack, U Turn, Waiting to Exhale, Just One of the Guys, Can\\'t Buy Me Love, Bill & Ted\\'s Excellent Adventure, The Scorpion King, The Banger Sisters, Used Cars, and Raising Arizona have been made there (as have many Westerns). The 1993 science fiction movie Fire in the Sky, based on a reported alien abduction in the town of Snowflake, was set in Snowflake. It was filmed in the Oregon towns of Oakland, Roseburg, and Sutherlin.\\n\\nThe 1974 film Alice Doesn\\'t Live Here Anymore, for which Ellen Burstyn won the Academy Award for Best Actress, and also starring Kris Kristofferson, was set in Tucson. The climax of the 1977 Clint Eastwood film The Gauntlet takes place in downtown Phoenix. The final segments of the 1984 film Starman take place at Meteor Crater outside Winslow. The Jeff Foxworthy comedy documentary movie  was filmed almost entirely at the Dodge Theatre. Some of Alfred Hitchcock\\'s classic film Psycho was shot in Phoenix, the ostensible home town of the main character.\\n\\nSome of the television shows filmed or set in Arizona include The New Dick Van Dyke Show, Medium, Alice, The First 48, Insomniac with Dave Attell, Cops, and America\\'s Most Wanted. The TV sitcom Alice, which was based on the movie was set in Phoenix. Twilight had passages set in Phoenix at the beginning and the end of the film.\\n\\nMusic.Arizona is prominently featured in the lyrics of many Country and Western songs, such as Jamie O\\'Neal\\'s hit ballad \"There Is No Arizona\". George Strait\\'s \"Oceanfront Property\" uses \"ocean front property in Arizona\" as a metaphor for a sucker proposition. The line \"see you down in Arizona Bay\" is used in a Tool song in reference to the possibility (expressed as a hope by comedian Bill Hicks) that Southern California will one day fall into the ocean. Glen Campbell, a notable resident, popularized the song \"By The Time I Get To Phoenix\".\\n\"Arizona\" was the title of a popular song recorded by Mark Lindsay. Arizona is mentioned by the hit song \"Take It Easy\", written by Jackson Browne and Glenn Frey and performed by the Eagles. Arizona is also mentioned in the Beatles\\' song \"Get Back\", credited to John Lennon and Paul McCartney; McCartney sings: \"JoJo left his home in Tucson, Arizona, for some California grass.\" \"Carefree Highway\", released in 1974 by Gordon Lightfoot, takes its name from Arizona State Route 74 north of Phoenix.\\n\\nArizona\\'s budding music scene is helped by emerging bands, as well as some well-known artists. The Gin Blossoms, Chronic Future, Roger Clyne and the Peacemakers, Jimmy Eat World, Caroline\\'s Spine, and others began their careers in Arizona. Also, a number of punk and rock bands got their start in Arizona, including JFA, The Feederz, Sun City Girls, The Meat Puppets, The Maine, The Summer Set, and more recently Authority Zero and Digital Summer.\\n\\nArizona also has many singers and other musicians. Singer, songwriter and guitarist Michelle Branch is from Sedona. The late Chester Bennington, the former lead vocalist of Linkin Park, and mash-up artist DJ Z-Trip are both from Phoenix. One of Arizona\\'s better known musicians is shock rocker Alice Cooper, who helped define the genre. Maynard James Keenan, the lead singer of the bands Tool, A Perfect Circle, and Puscifer, calls the town of Cornville home.\\n\\nOther notable singers include country singers Dierks Bentley and Marty Robbins, folk singer Katie Lee, Fleetwood Mac\\'s Stevie Nicks, CeCe Peniston, Rex Allen, 2007 American Idol winner Jordin Sparks, and Linda Ronstadt.\\n\\nArizona is also known for its heavy metal scene, which is centered in and around Phoenix. In the early to mid-1990s, it included bands such as Job for a Cowboy, Knights of the Abyss, Greeley Estates, Eyes Set To Kill, blessthefall, The Word Alive, The Dead Rabbitts, and Abigail Williams. The band Soulfly calls Phoenix home and Megadeth lived in Phoenix for about a decade. Beginning in and around 2009, Phoenix began to host a burgeoning\\ndesert rock and sludge metal underground, (ala\\' Kyuss in 1990s California) led by bands like Wolves of Winter, Asimov and Dead Canyon.\\n\\nAmerican composer Elliott Carter composed his first String Quartet (1950–51) while on sabbatical (from New York) in Arizona. The quartet won a Pulitzer Prize and other awards and is now a staple of the string quartet repertoire.\\n\\nSports.Professional sports teams in Arizona include:\\nState Farm Stadium hosted Super Bowl XLII on February 3, 2008, and Super Bowl XLIX on February 1, 2015.\\n\\nDue to its numerous golf courses, Arizona is home to several stops on the PGA Tour, most notably the Phoenix Open, held at the TPC of Scottsdale, and the WGC-Accenture Match Play Championship at the Ritz-Carlton Golf Club in Marana.\\n\\nAuto racing is another sport known in the state. Phoenix International Raceway in Avondale is home to NASCAR race weekends twice a year. Firebird International Raceway near Chandler is home to drag racing and other motorsport events.\\n\\nCollege sports.College sports are also prevalent in Arizona. The Arizona State Sun Devils and the Arizona Wildcats belong to the Pac-12 Conference while the Northern Arizona Lumberjacks compete in the Big Sky Conference and the Grand Canyon Antelopes compete in the Western Athletic Conference. The rivalry between Arizona State Sun Devils and the Arizona Wildcats predates Arizona\\'s statehood, and is the oldest rivalry in the NCAA. The Territorial Cup, first awarded in 1889 and certified as the oldest trophy in college football, is awarded to the winner of the annual football game between the two schools.\\n\\nArizona also hosts several college football bowl games. The Fiesta Bowl, originally held at Sun Devil Stadium, is now held at State Farm Stadium in Glendale. The Fiesta Bowl is part of the new College Football Playoff (CFP). University of Phoenix Stadium was also home to the 2007 and 2011 BCS National Championship Games.\\n\\nBaseball.Arizona is a popular location for Major League Baseball spring training, as it is the site of the Cactus League. Spring training was first started in Arizona in 1947, when Brewers owner Veeck sold them in 1945 but went onto purchase the Cleveland Indians in 1946. He decided to train the Cleveland Indians in Tucson and convinced the New York Giants to give Phoenix a try. Thus the Cactus League was born.\\n\\nOn March 9, 1995, Arizona was awarded a franchise to begin play for the 1998 season. A $130 million franchise fee was paid to Major League Baseball and on January 16, 1997, the Diamondbacks were officially voted into the National League.\\n\\nSince their debut, the Diamondbacks have won five National League West titles, one National League Championship pennant, and the 2001 World Series.\\n\\nNotable people.Some notable Arizonans involved in politics and government include:\\n- Former Arizona Governor Jan Brewer\\n- Former Surgeon General of the United States Richard Carmona\\n- Former United States Secretary of Transportation Mary Peters\\n- Former Supreme Court Justice Sandra Day O\\'Connor\\n- Former Supreme Court Chief Justice William Rehnquist\\n- Former U.S. Senator Dennis DeConcini\\n- Former Maricopa County Sheriff Joe Arpaio\\n- Former Graham County Sheriff Richard Mack\\n- National Education Association President Dennis Van Roekel\\n- Junior Republican Senator Jon Kyl, former Senate Minority Whip.\\n- Presidential candidate (2000, 2008) and former U.S. Senator John McCain\\n- Presidential candidate (1964) and former U.S. Senator Barry Goldwater\\n- Former governor, Secretary of the Interior, and presidential candidate (1988) Bruce Babbitt\\n- Presidential candidate (1976) and former Arizona congressman Mo Udall and his brother Secretary of the Interior Stewart Udall\\n- Former U.S. Senator Carl Hayden\\n- Former United States Solicitor General Rex E. Lee.\\n- Former Governor and Secretary of Homeland Security in the Obama Administration Janet Napolitano\\n- Former State Senator Jack Taylor also served as mayor of Mesa and was for one two-year term a member of the Arizona House of Representatives.\\nArizona notables in culture and the arts include:\\n- Labor leader and civil rights pioneer Cesar Estrada Chavez was from San Luis, near Yuma\\n- Actress Emma Stone is from Scottsdale\\n- Actress Gail Edwards resides in Sedona\\n- Athlete Auston Mathews (Toronto Maple Leaf Center)\\n- Author Zane Grey\\n- Architect Frank Lloyd Wright\\n- Disc sports (Frisbee) pioneer Ken Westerfield lives in Bisbee\\n- Film director Steven Spielberg was raised in Phoenix and attended Arcadia High School\\n- Actor David Spade was raised in Scottsdale and graduated from Arizona State University\\n- Actress Lynda Carter, star of Wonder Woman, is from Phoenix and attended Arizona State University\\n- Horse owner and trainer Bob Baffert.\\n- Musicians Chester Bennington of Linkin Park (Phoenix), Alice Cooper (Phoenix), Stevie Nicks of Fleetwood Mac (Phoenix), (Jerome), Linda Ronstadt (Tucson), Michelle Branch (Sedona), Nate Ruess of Fun. (Glendale)\\n- Musicians in the bands Meat Puppets (Phoenix/Tempe), Authority Zero (Mesa), Gin Blossoms (Tempe), Chronic Future (Scottsdale), Jimmy Eat World (Mesa), The Format (Glendale), Stellar Kart (Phoenix), Malignus Youth (Sierra Vista), Job for a Cowboy (Glendale), blessthefall (Phoenix), Eyes Set to Kill (Phoenix), The Word Alive (Phoenix), and Psychostick (Tempe).\\n- Poet Jim Simmerman of Flagstaff\\n- Frederick Sommer, an artist/photographer, moved to Tucson in 1931 and lived in Prescott from 1935 to 1999\\n- Rancher and political insider John G.F. Speiden – Jay Six Ranch\\n- Author Diana Gabaldon mostly known for Outlander was born in and resides in Arizona\\n- Musician Zella Day is originally from Pinetop, Arizona\\n\\nState symbols.- Arizona state amphibian: Arizona treefrog (Hyla eximia)\\n- Arizona state bird: cactus wren (Campylorhynchus brunneicapillus)\\n- Arizona state butterfly: two-tailed swallowtail (Papilio multicaudata)\\n- Arizona state colors: federal blue and old gold\\n- Arizona state dinosaur: Sonorasaurus\\n- Arizona state fish: Apache trout (Oncorhynchus apache)\\n- Arizona state flag: Flag of the State of Arizona\\n- Arizona state flower: saguaro blossom (Carnegiea gigantea)\\n- Arizona state fossil: petrified wood\\n- Arizona state gemstone: turquoise\\n- Arizona state mammal: ring-tailed cat (Bassariscus astutus)\\n- Arizona state motto: Ditat Deus (Latin God enriches)\\n- Arizona state neckwear: bolo tie\\n- Arizona state reptile: Arizona ridge-nosed rattlesnake (Crotalus willardi)\\n- Arizona state seal: Great Seal of the State of Arizona\\n- Arizona state slogan: Grand Canyon State\\n- Arizona state songs: \"Arizona March Song\" (by Margaret Rowe Clifford) and \"Arizona\" (by Rex Allen, Jr.)\\n- Arizona state tree: palo verde (Parkinsonia)\\n- Arizona state gun: Colt Single Action Army revolver\\n\\nSee also.- Outline of Arizona – organized list of topics about Arizona\\n- Index of Arizona-related articles\\n\\nFurther reading.- Bayless, Betsy, 1998, Arizona Blue Book, 1997–1998. Phoenix, Arizona.\\n- McIntyre, Allan J., 2008, The Tohono O\\'odham and Pimeria Alta. Arcadia Publishing, Charleston, South Carolina. ().\\n- Miller, Tom (editor), 1986, Arizona: The Land and the People. University of Arizona Press, Tucson. ().\\n- Officer, James E., 1987, Hispanic Arizona, 1536–1856. University of Arizona Press, Tucson. ().\\n- Thomas, David M. (editor), 2003, Arizona Legislative Manual. In Arizona Phoenix, Arizona, Arizona Legislative Council. Google Print. Retrieved January 16, 2006.\\n- Trimble, Marshall, 1998, Arizona, A Cavalcade of History. Treasure Chest Publications, Tucson, Arizona. ().\\n- Woosley, Anne I., 2008, Early Tucson. Arcadia Publishing, Charleston, South Carolina. ().\\n\\nExternal links.Official state government website\\n- Official Website of the State of Arizona\\n\\nOther reference links\\n- Arizona State Guide, from the Library of Congress\\n- Arizona Demographic Data from FedStats\\n- Arizona USDA State Fact Sheet\\n- Arizona Indicators, state\\'s central resource for information on a wide range of topics\\n- Energy Data & Statistics for Arizona\\n- Arizona State Databases – Annotated list of searchable databases produced by Arizona state agencies and compiled by the Government Documents Roundtable of the American Library Association.\\n- Arizona State Library, Archives and Public Records\\n\\nTourism information links\\n- Official Arizona Office of Tourism\\n- Arizona Game & Fish Department (Hunting, Boating & Fishing)\\n- Arizona State Parks\\n- American Southwest, a National Park Service Discover Our Shared Heritage Travel Itinerary\\n\\n\\n'}\n"
     ]
    }
   ],
   "source": [
    "# Remove html tags from context articles and choose only the ones used in the test_questions.json question_links\n",
    "# This does the same that viscode but a little simpler\n",
    "\n",
    "# First get all question_links\n",
    "question_links = set()\n",
    "for test_question in test_questions:\n",
    "    for link in test_question[\"question_links\"]:\n",
    "        question_links.add(link.lower())\n",
    "\n",
    "# Then we will extract the context articles of the fetched links while cleaning them\n",
    "cleaned_context_articles = {}\n",
    "for article, content in context_articles.items():\n",
    "    if article in question_links:\n",
    "        parser = BeautifulSoup(content, \"html\")\n",
    "        cleaned_context_articles[article] = parser.get_text()\n",
    "\n",
    "# Testing functionality\n",
    "assert 'san diego padres' not in cleaned_context_articles.keys() \n",
    "assert cleaned_context_articles['zeus']\n",
    "\n",
    "# Creating a list of dicts with all articles that will be used\n",
    "articles_list = []\n",
    "for article, content in cleaned_context_articles.items():\n",
    "    articles_list.append(\n",
    "        {\n",
    "            \"title\": article,\n",
    "            \"content\": content\n",
    "        }\n",
    "    )\n",
    "\n",
    "print(articles_list[0])"
   ]
  },
  {
   "cell_type": "code",
   "execution_count": 5,
   "metadata": {},
   "outputs": [],
   "source": [
    "# We are now going to extract all questions with their respective answer\n",
    "\n",
    "def process_answer(answer):\n",
    "    match answer[\"type\"]:\n",
    "        case \"span\":\n",
    "            return answer[\"answer_spans\"][0][\"text\"]\n",
    "        case \"value\":\n",
    "            return answer[\"answer_value\"] + \" \" + answer[\"answer_unit\"]\n",
    "        case \"binary\":\n",
    "            return answer[\"answer_value\"]\n",
    "        case _:\n",
    "            print(\"Unsupported type\", answer[\"type\"])\n",
    "\n",
    "questions_list = []\n",
    "for test_question in test_questions:\n",
    "    question = test_question[\"question\"]\n",
    "    answer = process_answer(test_question[\"answer\"])\n",
    "    questions_list.append(\n",
    "        {\n",
    "            \"question\" : question,\n",
    "            \"answer\" : answer\n",
    "        }\n",
    "    )"
   ]
  },
  {
   "cell_type": "markdown",
   "metadata": {},
   "source": [
    "## Indexer - BM25 - pyserini"
   ]
  },
  {
   "cell_type": "code",
   "execution_count": 6,
   "metadata": {},
   "outputs": [
    {
     "name": "stderr",
     "output_type": "stream",
     "text": [
      "100%|██████████████████████████████████████████████████████████████████████| 62/62 [00:00<00:00, 113.11it/s]\n"
     ]
    }
   ],
   "source": [
    "# Transform the raw text of each article into multiple windows of content\n",
    "\n",
    "nlp = spacy.blank(\"en\")\n",
    "nlp.add_pipe(\"sentencizer\")\n",
    "\n",
    "stride = 3\n",
    "max_length = 5\n",
    "\n",
    "def window(documents, stride, max_length):\n",
    "    treated_documents = []\n",
    "\n",
    "    for j,document in enumerate(tqdm(documents)):\n",
    "        doc_text = document['content']\n",
    "        doc = nlp(doc_text[:10000])\n",
    "        sentences = [sent.text.strip() for sent in doc.sents]\n",
    "        for i in range(0, len(sentences), stride):\n",
    "            segment = ' '.join(sentences[i:i + max_length])\n",
    "            treated_documents.append({\n",
    "                \"title\": document['title'],\n",
    "                \"contents\": document['title']+\". \"+segment,\n",
    "                \"segment\": segment\n",
    "            })\n",
    "            if i + max_length >= len(sentences):\n",
    "                break\n",
    "    return treated_documents\n",
    "\n",
    "treated_documents = window(articles_list, stride, max_length)"
   ]
  },
  {
   "cell_type": "code",
   "execution_count": 7,
   "metadata": {},
   "outputs": [],
   "source": [
    "# Creates the jsonl that will be used by pyserini with the windowed data\n",
    "\n",
    "if not os.path.isdir(\"data/iirc_indices\"):\n",
    "    !mkdir data/iirc_indices\n",
    "\n",
    "f = open(\"data/iirc_indices/contents.jsonl\",'w')\n",
    "\n",
    "for i, doc in enumerate(treated_documents):\n",
    "    doc['id'] = i\n",
    "    if doc['segment'] != \"\":\n",
    "        f.write(json.dumps(doc)+\"\\n\")"
   ]
  },
  {
   "cell_type": "code",
   "execution_count": 8,
   "metadata": {},
   "outputs": [
    {
     "name": "stdout",
     "output_type": "stream",
     "text": [
      "pyserini.index is deprecated, please use pyserini.index.lucene.\n",
      "2024-05-15 15:09:51,127 INFO  [main] index.AbstractIndexer (AbstractIndexer.java:204) - Setting log level to INFO\n",
      "2024-05-15 15:09:51,129 INFO  [main] index.AbstractIndexer (AbstractIndexer.java:207) - ============ Loading Index Configuration ============\n",
      "2024-05-15 15:09:51,129 INFO  [main] index.AbstractIndexer (AbstractIndexer.java:208) - AbstractIndexer settings:\n",
      "2024-05-15 15:09:51,130 INFO  [main] index.AbstractIndexer (AbstractIndexer.java:209) -  + DocumentCollection path: data/iirc_indices\n",
      "2024-05-15 15:09:51,130 INFO  [main] index.AbstractIndexer (AbstractIndexer.java:210) -  + CollectionClass: JsonCollection\n",
      "2024-05-15 15:09:51,130 INFO  [main] index.AbstractIndexer (AbstractIndexer.java:211) -  + Index path: data/iirc_index\n",
      "2024-05-15 15:09:51,130 INFO  [main] index.AbstractIndexer (AbstractIndexer.java:212) -  + Threads: 1\n",
      "2024-05-15 15:09:51,131 INFO  [main] index.AbstractIndexer (AbstractIndexer.java:213) -  + Optimize (merge segments)? false\n",
      "May 15, 2024 3:09:51 PM org.apache.lucene.store.MemorySegmentIndexInputProvider <init>\n",
      "INFO: Using MemorySegmentIndexInput with Java 21; to disable start with -Dorg.apache.lucene.store.MMapDirectory.enableMemorySegments=false\n",
      "2024-05-15 15:09:51,160 INFO  [main] index.IndexCollection (IndexCollection.java:246) - Using DefaultEnglishAnalyzer\n",
      "2024-05-15 15:09:51,160 INFO  [main] index.IndexCollection (IndexCollection.java:247) - Stemmer: porter\n",
      "2024-05-15 15:09:51,161 INFO  [main] index.IndexCollection (IndexCollection.java:248) - Keep stopwords? false\n",
      "2024-05-15 15:09:51,161 INFO  [main] index.IndexCollection (IndexCollection.java:249) - Stopwords file: null\n",
      "2024-05-15 15:09:51,305 INFO  [main] index.IndexCollection (IndexCollection.java:197) - IndexCollection settings:\n",
      "2024-05-15 15:09:51,305 INFO  [main] index.IndexCollection (IndexCollection.java:198) -  + Generator: DefaultLuceneDocumentGenerator\n",
      "2024-05-15 15:09:51,305 INFO  [main] index.IndexCollection (IndexCollection.java:199) -  + Language: en\n",
      "2024-05-15 15:09:51,306 INFO  [main] index.IndexCollection (IndexCollection.java:200) -  + Stemmer: porter\n",
      "2024-05-15 15:09:51,306 INFO  [main] index.IndexCollection (IndexCollection.java:201) -  + Keep stopwords? false\n",
      "2024-05-15 15:09:51,306 INFO  [main] index.IndexCollection (IndexCollection.java:202) -  + Stopwords: null\n",
      "2024-05-15 15:09:51,307 INFO  [main] index.IndexCollection (IndexCollection.java:203) -  + Store positions? false\n",
      "2024-05-15 15:09:51,307 INFO  [main] index.IndexCollection (IndexCollection.java:204) -  + Store docvectors? false\n",
      "2024-05-15 15:09:51,307 INFO  [main] index.IndexCollection (IndexCollection.java:205) -  + Store document \"contents\" field? false\n",
      "2024-05-15 15:09:51,307 INFO  [main] index.IndexCollection (IndexCollection.java:206) -  + Store document \"raw\" field? true\n",
      "2024-05-15 15:09:51,308 INFO  [main] index.IndexCollection (IndexCollection.java:207) -  + Additional fields to index: []\n",
      "2024-05-15 15:09:51,308 INFO  [main] index.IndexCollection (IndexCollection.java:208) -  + Whitelist: null\n",
      "2024-05-15 15:09:51,308 INFO  [main] index.IndexCollection (IndexCollection.java:209) -  + Pretokenized?: false\n",
      "2024-05-15 15:09:51,309 INFO  [main] index.IndexCollection (IndexCollection.java:210) -  + Codec: Lucene99\n",
      "2024-05-15 15:09:51,309 INFO  [main] index.AbstractIndexer (AbstractIndexer.java:237) - ============ Indexing Collection ============\n",
      "2024-05-15 15:09:51,313 INFO  [main] index.AbstractIndexer (AbstractIndexer.java:246) - Thread pool with 1 threads initialized.\n",
      "2024-05-15 15:09:51,313 INFO  [main] index.AbstractIndexer (AbstractIndexer.java:247) - 1 file found in data/iirc_indices\n",
      "2024-05-15 15:09:51,314 INFO  [main] index.AbstractIndexer (AbstractIndexer.java:248) - Starting to index...\n",
      "2024-05-15 15:09:52,549 INFO  [main] index.AbstractIndexer (AbstractIndexer.java:306) - Indexing Complete! 1,201 documents indexed\n",
      "2024-05-15 15:09:52,549 INFO  [main] index.AbstractIndexer (AbstractIndexer.java:307) - ============ Final Counter Values ============\n",
      "2024-05-15 15:09:52,549 INFO  [main] index.AbstractIndexer (AbstractIndexer.java:308) - indexed:            1,201\n",
      "2024-05-15 15:09:52,549 INFO  [main] index.AbstractIndexer (AbstractIndexer.java:309) - unindexable:            0\n",
      "2024-05-15 15:09:52,550 INFO  [main] index.AbstractIndexer (AbstractIndexer.java:310) - empty:                  0\n",
      "2024-05-15 15:09:52,550 INFO  [main] index.AbstractIndexer (AbstractIndexer.java:311) - skipped:                0\n",
      "2024-05-15 15:09:52,550 INFO  [main] index.AbstractIndexer (AbstractIndexer.java:312) - errors:                 0\n",
      "2024-05-15 15:09:52,553 INFO  [main] index.AbstractIndexer (AbstractIndexer.java:315) - Total 1,201 documents indexed in 00:00:01\n"
     ]
    }
   ],
   "source": [
    "# Creates the indices with BM25 (DefaultLuceneDocumentGenerator)\n",
    "!python3 -m pyserini.index -collection JsonCollection -generator DefaultLuceneDocumentGenerator -threads 1 -input data/iirc_indices -index data/iirc_index -storeRaw"
   ]
  },
  {
   "cell_type": "markdown",
   "metadata": {},
   "source": [
    "## Groq API"
   ]
  },
  {
   "cell_type": "code",
   "execution_count": 9,
   "metadata": {},
   "outputs": [
    {
     "data": {
      "text/plain": [
       "'Você é brasileiro, né? \"Opa, beleza?\" é uma expressão muito comum no Brasil, especialmente entre os jovens. \"Opa\" é uma interjeição que pode ser usada para expressar surpresa, alegria ou emoção, e \"beleza\" significa \"lindo\", \"bonito\" ou \"incrível\". Portanto, \"Opa, beleza?\" pode ser traduzido para \"Incrível, certo?\" ou \"Lindo, né?\".'"
      ]
     },
     "execution_count": 9,
     "metadata": {},
     "output_type": "execute_result"
    }
   ],
   "source": [
    "class GroqAPI():\n",
    "    def __init__(self, system_message=None, json_format=False):\n",
    "        # self.client = Groq(api_key=os.environ.get(\"GROQ_API_KEY\"))\n",
    "        self.client = Groq(api_key=\"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\")\n",
    "        \n",
    "        self.model = \"llama3-70b-8192\"\n",
    "        self.system_message = system_message\n",
    "        self.json_format = json_format\n",
    "\n",
    "    \n",
    "    def get_answer(self, prompt : str):\n",
    "        messages = []\n",
    "\n",
    "        if self.system_message:\n",
    "            messages.append(\n",
    "                {\n",
    "                    \"role\" : \"system\",\n",
    "                    \"content\" : self.system_message\n",
    "                }\n",
    "            )\n",
    "\n",
    "        messages.append(\n",
    "            {\n",
    "                \"role\" : \"user\",\n",
    "                \"content\" : prompt\n",
    "            }\n",
    "        )\n",
    "\n",
    "\n",
    "        answer = self.client.chat.completions.create(\n",
    "            messages=messages,\n",
    "            model=self.model,\n",
    "            response_format=({\"type\": \"json_object\"} if self.json_format else None)\n",
    "        )\n",
    "\n",
    "        return answer.choices[0].message.content\n",
    "    \n",
    "api = GroqAPI()\n",
    "api.get_answer(\"Opa, beleza?\")"
   ]
  },
  {
   "cell_type": "markdown",
   "metadata": {},
   "source": [
    "## Métricas de Evaluação"
   ]
  },
  {
   "cell_type": "markdown",
   "metadata": {},
   "source": [
    "### Lamma3"
   ]
  },
  {
   "cell_type": "code",
   "execution_count": 10,
   "metadata": {},
   "outputs": [],
   "source": [
    "groq_evaluator = GroqAPI(\n",
    "    system_message=\"\"\"\n",
    "    You will have to compare two answers that will be in a json format.\n",
    "    The first answer is correct and given by a human, while the second one is given by a LLM.\n",
    "    Respond with the following json format \\{\"correct\" : \"bool\" \\}\n",
    "    \"\"\",\n",
    "    json_format=True\n",
    ")"
   ]
  },
  {
   "cell_type": "code",
   "execution_count": 11,
   "metadata": {},
   "outputs": [
    {
     "data": {
      "text/plain": [
       "('{\"correct\": true}', '{\"correct\": false}')"
      ]
     },
     "execution_count": 11,
     "metadata": {},
     "output_type": "execute_result"
    }
   ],
   "source": [
    "sample_question = \"What is Zeus know for in Greek mythology?\"\n",
    "sample_gold = \"sky and thunder god\"\n",
    "sample_correct = \"Zeus is known as the king of the gods and the god of the sky and thunder in Greek mythology.\"\n",
    "sample_wrong = \"Zeus is been depicted as using violence to get his way and terrorize humans.\"\n",
    "\n",
    "def groq_eval(correct, given):\n",
    "    return groq_evaluator.get_answer(\n",
    "        prompt=f\"\"\"\n",
    "        First answer: {correct}\n",
    "        Second answer {given}\n",
    "        \"\"\"\n",
    "    )\n",
    "\n",
    "groq_eval(sample_correct, sample_gold), groq_eval(sample_correct, sample_wrong)"
   ]
  },
  {
   "cell_type": "markdown",
   "metadata": {},
   "source": [
    "### Visconde"
   ]
  },
  {
   "cell_type": "code",
   "execution_count": 12,
   "metadata": {},
   "outputs": [],
   "source": [
    "def normalize_answer(s):\n",
    "    \"\"\"Lower text and remove punctuation, articles and extra whitespace.\"\"\"\n",
    "    def remove_articles(text):\n",
    "        regex = re.compile(r'\\b(a|an|the)\\b', re.UNICODE)\n",
    "        return re.sub(regex, ' ', text)\n",
    "    def white_space_fix(text):\n",
    "        return ' '.join(text.split())\n",
    "    def remove_punc(text):\n",
    "        exclude = set(string.punctuation)\n",
    "        return ''.join(ch for ch in text if ch not in exclude)\n",
    "    def lower(text):\n",
    "        return text.lower()\n",
    "    def remove_accents(input_str):\n",
    "        nfkd_form = unicodedata.normalize('NFKD', input_str)\n",
    "        only_ascii = nfkd_form.encode('ASCII', 'ignore')\n",
    "        return only_ascii.decode(\"utf-8\")\n",
    "\n",
    "    return white_space_fix(remove_articles(remove_punc(lower(remove_accents(s)))))\n",
    "\n",
    "def get_tokens(s):\n",
    "    if not s: return []\n",
    "    return normalize_answer(s).split()\n",
    "\n",
    "def compute_exact(a_gold, a_pred):\n",
    "    return int(normalize_answer(a_gold) == normalize_answer(a_pred))\n",
    "\n",
    "def compute_f1(a_gold, a_pred):\n",
    "    gold_toks = get_tokens(a_gold)\n",
    "    pred_toks = get_tokens(a_pred)\n",
    "    common = collections.Counter(gold_toks) & collections.Counter(pred_toks)\n",
    "    num_same = sum(common.values())\n",
    "    if len(gold_toks) == 0 or len(pred_toks) == 0:\n",
    "        # If either is no-answer, then F1 is 1 if they agree, 0 otherwise\n",
    "        return int(gold_toks == pred_toks)\n",
    "    if num_same == 0:\n",
    "        return 0\n",
    "    precision = 1.0 * num_same / len(pred_toks)\n",
    "    recall = 1.0 * num_same / len(gold_toks)\n",
    "    f1 = (2 * precision * recall) / (precision + recall)\n",
    "    return f1"
   ]
  },
  {
   "cell_type": "code",
   "execution_count": 13,
   "metadata": {},
   "outputs": [
    {
     "data": {
      "text/plain": [
       "(0.4, 0)"
      ]
     },
     "execution_count": 13,
     "metadata": {},
     "output_type": "execute_result"
    }
   ],
   "source": [
    "compute_f1(sample_gold, sample_correct), compute_exact(sample_gold, sample_correct)"
   ]
  },
  {
   "cell_type": "code",
   "execution_count": 14,
   "metadata": {},
   "outputs": [
    {
     "data": {
      "text/plain": [
       "(0.11111111111111112, 0)"
      ]
     },
     "execution_count": 14,
     "metadata": {},
     "output_type": "execute_result"
    }
   ],
   "source": [
    "compute_f1(sample_gold, sample_wrong), compute_exact(sample_gold, sample_wrong)"
   ]
  },
  {
   "cell_type": "markdown",
   "metadata": {},
   "source": [
    "## ReAct\n",
    "\n",
    "Here we will have the following tools\n",
    "- Router: Will decide next tool based in given context\n",
    "- Search: Will search in the index for related content to the given context\n",
    "- Think:\n",
    "- Act:"
   ]
  },
  {
   "cell_type": "markdown",
   "metadata": {},
   "source": [
    "### Router"
   ]
  },
  {
   "cell_type": "code",
   "execution_count": 105,
   "metadata": {},
   "outputs": [],
   "source": [
    "\n",
    "def get_next_tool(context, step, last_decision=\"None\"):\n",
    "    router = GroqAPI(\n",
    "        system_message=f\"\"\"\n",
    "You are the router of a ReAct agent, also known as tool selector.\n",
    "In your selection you must provide a thought of why you are selecting this tool.\n",
    "You must not answer the question if the context only contains the initial questi\n",
    "The last decision of the router was {last_decision} on.\n",
    "It is not useful to think twice in a row, so you must not do that.\n",
    "\n",
    "The available tools are the following:\n",
    "    - Search: \n",
    "        Query: \"str\"\n",
    "        Returns: Useful and relevant information about the query.\n",
    "\n",
    "    - Think: \n",
    "        Query: None\n",
    "        Returns: A reflection of the previous content that can be helpful for deciding the next tool.\n",
    "\n",
    "    - Answer:\n",
    "        Query: None\n",
    "        Returns: The final answer based in all thoughts and searches.\n",
    "\n",
    "You must respond with a json object in the following format:\n",
    "\n",
    "\"tool\" : \"str\" (can be search, think or answer)\n",
    "\"thought\" : \"str\"\n",
    "\"query\" : \"str\" (can be the search query or empty if selected tool is think or answer)\n",
    "\"\"\",\n",
    "        json_format=True\n",
    ")\n",
    "    \n",
    "\n",
    "    router_answer = router.get_answer(context + f\"\\n\")\n",
    "\n",
    "    if step >= 7 and json.loads(router_answer)[\"tool\"] != \"answer\":\n",
    "        return \"\"\"\n",
    "{\n",
    "    \"tool\": \"answer\",\n",
    "    \"thought\": \"Maximum nuber of steps reached. Must give an answer\",\n",
    "    \"query\": \"\"\n",
    "}\n",
    "\"\"\"\n",
    "    \n",
    "    return router_answer\n",
    "\n"
   ]
  },
  {
   "cell_type": "code",
   "execution_count": null,
   "metadata": {},
   "outputs": [],
   "source": [
    "\n",
    "sample_context = \"\"\"\n",
    "Question: Who was Zeus in the greek mythology?\n",
    "\"\"\"\n",
    "\n",
    "router_answer = get_next_tool(sample_context, 1)"
   ]
  },
  {
   "cell_type": "code",
   "execution_count": 92,
   "metadata": {},
   "outputs": [
    {
     "data": {
      "text/plain": [
       "{'tool': 'search',\n",
       " 'thought': \"I want to know more about Zeus in Greek mythology, so I'll search for relevant information.\",\n",
       " 'query': 'Zeus in Greek mythology'}"
      ]
     },
     "execution_count": 92,
     "metadata": {},
     "output_type": "execute_result"
    }
   ],
   "source": [
    "\n",
    "json.loads(router_answer)"
   ]
  },
  {
   "cell_type": "markdown",
   "metadata": {},
   "source": [
    "### Search"
   ]
  },
  {
   "cell_type": "code",
   "execution_count": 54,
   "metadata": {},
   "outputs": [
    {
     "name": "stderr",
     "output_type": "stream",
     "text": [
      "/home/rianradeck/.local/lib/python3.10/site-packages/huggingface_hub/file_download.py:1132: FutureWarning: `resume_download` is deprecated and will be removed in version 1.0.0. Downloads always resume when possible. If you want to force a new download, use `force_download=True`.\n",
      "  warnings.warn(\n"
     ]
    }
   ],
   "source": [
    "# Define our embedding model\n",
    "embedding_model = sentence_transformers.SentenceTransformer('paraphrase-distilroberta-base-v1')\n",
    "\n",
    "# Generate embeddings for a given text\n",
    "def generate_embeddings(text):\n",
    "    return embedding_model.encode(text, convert_to_tensor=True)\n",
    "\n",
    "# Retrieve relevant documents given a query\n",
    "def retrieve_documents(query, searcher, embedding_model, top_k=10):\n",
    "    query_embedding = generate_embeddings(query)\n",
    "    hits = searcher.search(query, k=2*top_k)\n",
    "    \n",
    "    relevant_docs = []\n",
    "    for hit in hits:\n",
    "        raw_content = (searcher.doc(hit.docid).raw())\n",
    "        hit = json.loads(raw_content)\n",
    "        relevant_docs.append(hit[\"segment\"])\n",
    "\n",
    "    relevant_docs_embeddings = generate_embeddings(relevant_docs)\n",
    "    \n",
    "    rerank = sentence_transformers.util.semantic_search(query_embedding.reshape(1, -1), relevant_docs_embeddings, top_k=top_k)\n",
    "\n",
    "    final_documents = []\n",
    "    for doc in rerank[0]:\n",
    "        idx = doc[\"corpus_id\"]\n",
    "        score = doc[\"score\"]\n",
    "        final_documents.append(\n",
    "            {\n",
    "                \"idx\" : idx,\n",
    "                \"score\" : score,\n",
    "                \"content\": relevant_docs[idx]\n",
    "            }\n",
    "        )\n",
    "\n",
    "    return final_documents\n",
    "\n",
    "\n",
    "# Define the retrieve\n",
    "index_dir = \"./data/iirc_index\"\n",
    "searcher = LuceneSearcher(index_dir)\n",
    "\n",
    "# Search tool\n",
    "def get_relevant_content(query, top_k=10):\n",
    "    documents = retrieve_documents(query, searcher, embedding_model, top_k=10)\n",
    "    final_content = \"\"\n",
    "    for doc in documents:\n",
    "        final_content += doc[\"content\"]+\"\\n\"\n",
    "    return final_content\n"
   ]
  },
  {
   "cell_type": "code",
   "execution_count": 38,
   "metadata": {},
   "outputs": [
    {
     "name": "stdout",
     "output_type": "stream",
     "text": [
      "10 [{'idx': 5, 'score': 0.5736244320869446, 'content': \"Zeus (British English , North American English ; , Zeús ) is the sky and thunder god in ancient Greek religion, who rules as king of the gods of Mount Olympus. His name is cognate with the first element of his Roman equivalent Jupiter. His mythologies and powers are similar, though not identical, to those of Indo-European deities such as Jupiter, Perkūnas, Perun, Indra and Thor. Zeus is the child of Cronus and Rhea, the youngest of his siblings to be born, though sometimes reckoned the eldest as the others required disgorging from Cronus's stomach. In most traditions, he is married to Hera, by whom he is usually said to have fathered Ares, Hebe, and Hephaestus.\"}, {'idx': 4, 'score': 0.5297212600708008, 'content': 'He was equated with many foreign weather gods, permitting Pausanias to observe \"That Zeus is king in heaven is a saying common to all men\". Zeus\\' symbols are the thunderbolt, eagle, bull, and oak. In addition to his Indo-European inheritance, the classical \"cloud-gatherer\" (Greek: , Nephelēgereta) also derives certain iconographic traits from the cultures of the ancient Near East, such as the scepter. Zeus is frequently depicted by Greek artists in one of two poses: standing, striding forward with a thunderbolt leveled in his raised right hand, or seated in majesty. Name.'}, {'idx': 11, 'score': 0.5246973037719727, 'content': 'Zeus was also infamous for his erotic escapades. These resulted in many divine and heroic offspring, including Athena, Apollo, Artemis, Hermes, Persephone, Dionysus, Perseus, Heracles, Helen of Troy, Minos, and the Muses. He was respected as an allfather who was chief of the gods and assigned roles to the others: \"Even the gods who are not his natural children address him as Father, and all the gods rise in his presence.\" He was equated with many foreign weather gods, permitting Pausanias to observe \"That Zeus is king in heaven is a saying common to all men\". Zeus\\' symbols are the thunderbolt, eagle, bull, and oak.'}, {'idx': 2, 'score': 0.5109238624572754, 'content': 'The god is known under this name in the Rigveda (Vedic Sanskrit Dyaus/Dyaus Pita), Latin (compare Jupiter, from Iuppiter, deriving from the Proto-Indo-European vocative *\\'), deriving from the root *dyeu- (\"to shine\", and in its many derivatives, \"sky, heaven, god\"). Zeus is the only deity in the Olympic pantheon whose name has such a transparent Indo-European etymology. The earliest attested forms of the name are the Mycenaean Greek , di-we and , di-wo, written in the Linear B syllabic script. Plato, in his Cratylus, gives a folk etymology of Zeus meaning \"cause of life always to all things,\" because of puns between alternate titles of Zeus (Zen and Dia) with the Greek words for life and \"because of.\" This etymology, along with Plato\\'s entire method of deriving etymologies, is not supported by modern scholarship.'}, {'idx': 3, 'score': 0.48777544498443604, 'content': 'It is inflected as follows: vocative: (); accusative: (); genitive: (); dative: (). Diogenes Laërtius quotes Pherecydes of Syros as spelling the name, . Zeus is the Greek continuation of *, the name of the Proto-Indo-European god of the daytime sky, also called *\\' (\"Sky Father\"). The god is known under this name in the Rigveda (Vedic Sanskrit Dyaus/Dyaus Pita), Latin (compare Jupiter, from Iuppiter, deriving from the Proto-Indo-European vocative *\\'), deriving from the root *dyeu- (\"to shine\", and in its many derivatives, \"sky, heaven, god\"). Zeus is the only deity in the Olympic pantheon whose name has such a transparent Indo-European etymology.'}, {'idx': 16, 'score': 0.4745578467845917, 'content': 'After the battle with the Titans, Zeus shared the world with his elder brothers, Poseidon and Hades, by drawing lots: Zeus got the sky and air, Poseidon the waters, and Hades the world of the dead (the underworld). The ancient Earth, Gaia, could not be claimed; she was left to all three, each according to their capabilities, which explains why Poseidon was the \"earth-shaker\" (the god of earthquakes) and Hades claimed the humans who died (see also Penthus). Gaia resented the way Zeus had treated the Titans, because they were her children. Soon after taking the throne as king of the gods, Zeus had to fight some of Gaia\\'s other children, the monsters Typhon and Echidna. He vanquished Typhon and trapped him under Mount Etna, but left Echidna and her children alive.'}, {'idx': 1, 'score': 0.46193116903305054, 'content': \"Scenes in which Zeus appears include:\\n\\n- Book 2: Zeus sends Agamemnon a dream and is able to partially control his decisions because of the effects of the dream\\n- Book 4: Zeus promises Hera to ultimately destroy the City of Troy at the end of the war\\n- Book 7: Zeus and Poseidon ruin the Achaeans fortress\\n- Book 8: Zeus prohibits the other Gods from fighting each other and has to return to Mount Ida where he can think over his decision that the Greeks will lose the war\\n- Book 14: Zeus is seduced by Hera and becomes distracted while she helps out the Greeks\\n- Book 15: Zeus wakes up and realizes that Poseidon his own brother has been helping out the Greeks, while also sending Hector and Apollo to help fight the Trojans ensuring that the City of Troy will fall\\n- Book 16: Zeus is upset that he couldn't help save Sarpedon's life because it would then contradict his previous decisions\\n- Book 17: Zeus is emotionally hurt by the fate of Hector\\n- Book 20: Zeus lets the other Gods help out their respective sides in the war\\n- Book 24: Zeus demands that Achilles release the corpse of Hector to be buried honourably\\n\\nList of other deeds.- Zeus granted Callirrhoe's prayer that her sons by Alcmaeon, Acarnan and Amphoterus, grow quickly so that they might be able to avenger the death of their father by the hands of Phegeus and his two sons. - He unsuccessfully wooed Thetis, daughter of Nereus. Zeus and Hera. Zeus was brother and consort of Hera. By Hera, Zeus sired Ares, Hebe and Hephaestus, though some accounts say that Hera produced these offspring alone.\"}, {'idx': 0, 'score': 0.44535887241363525, 'content': \"Since lightning is quite powerful and sometimes deadly, it is a bold sign when lightning strikes because it is known that Zeus most likely threw the bolt. In the Iliad. The Iliad is a poem by Homer about the Trojan war and the battle over the City of Troy, in which Zeus plays a major part. Scenes in which Zeus appears include:\\n\\n- Book 2: Zeus sends Agamemnon a dream and is able to partially control his decisions because of the effects of the dream\\n- Book 4: Zeus promises Hera to ultimately destroy the City of Troy at the end of the war\\n- Book 7: Zeus and Poseidon ruin the Achaeans fortress\\n- Book 8: Zeus prohibits the other Gods from fighting each other and has to return to Mount Ida where he can think over his decision that the Greeks will lose the war\\n- Book 14: Zeus is seduced by Hera and becomes distracted while she helps out the Greeks\\n- Book 15: Zeus wakes up and realizes that Poseidon his own brother has been helping out the Greeks, while also sending Hector and Apollo to help fight the Trojans ensuring that the City of Troy will fall\\n- Book 16: Zeus is upset that he couldn't help save Sarpedon's life because it would then contradict his previous decisions\\n- Book 17: Zeus is emotionally hurt by the fate of Hector\\n- Book 20: Zeus lets the other Gods help out their respective sides in the war\\n- Book 24: Zeus demands that Achilles release the corpse of Hector to be buried honourably\\n\\nList of other deeds.- Zeus granted Callirrhoe's prayer that her sons by Alcmaeon, Acarnan and Amphoterus, grow quickly so that they might be able to avenger the death of their father by the hands of Phegeus and his two sons. - He unsuccessfully wooed Thetis, daughter of Nereus.\"}, {'idx': 6, 'score': 0.430162638425827, 'content': \"Zeus is frequently depicted by Greek artists in one of two poses: standing, striding forward with a thunderbolt leveled in his raised right hand, or seated in majesty. Name. The god's name in the nominative is (Zeús). It is inflected as follows: vocative: (); accusative: (); genitive: (); dative: (). Diogenes Laërtius quotes Pherecydes of Syros as spelling the name, .\"}, {'idx': 19, 'score': 0.42077964544296265, 'content': 'This flood narrative is a common motif in mythology. Throughout history Zeus has been depicted as using violence to get his way and terrorize humans. As god of the sky he has the power to hurl lightning bolts as a weapon. Since lightning is quite powerful and sometimes deadly, it is a bold sign when lightning strikes because it is known that Zeus most likely threw the bolt. In the Iliad.'}]\n"
     ]
    }
   ],
   "source": [
    "query = \"What about Zeus, the greek god?\"\n",
    "relevant_docs = retrieve_documents(query, searcher, embedding_model)\n",
    "print(len(relevant_docs), relevant_docs)"
   ]
  },
  {
   "cell_type": "markdown",
   "metadata": {},
   "source": [
    "### Think"
   ]
  },
  {
   "cell_type": "code",
   "execution_count": 99,
   "metadata": {},
   "outputs": [],
   "source": [
    "def think(context):\n",
    "    think_api = GroqAPI(\n",
    "        system_message=\"\"\"\n",
    "You will reflect about a given information and provide a useful reflection.\n",
    "Output in json as the following:\n",
    "{\n",
    "    \"reflection\" : \"str\"\n",
    "}\n",
    "        \"\"\",\n",
    "        json_format=True\n",
    "    )\n",
    "\n",
    "    reflection = think_api.get_answer(\n",
    "        f\"\"\"\n",
    "Provide a concise, relevant and precise reflection about the following context:\n",
    "\n",
    "{context}\n",
    "        \"\"\"\n",
    "    )\n",
    "\n",
    "    return reflection\n"
   ]
  },
  {
   "cell_type": "markdown",
   "metadata": {},
   "source": [
    "### Answer"
   ]
  },
  {
   "cell_type": "code",
   "execution_count": 100,
   "metadata": {},
   "outputs": [],
   "source": [
    "def answer(context):\n",
    "    answer_api = GroqAPI(\n",
    "        system_message=\"\"\"\n",
    "You will answer a question based in aditional context.\n",
    "The context will have (ideally):\n",
    "    - Search results that will help you fetching information\n",
    "    - Reflections that have key points of the context\n",
    "Your answer must not be long and focus only in the keypoints of the question, so you must be precise and relevant when answering.\n",
    "Try to keep the answer in under 200 characthers.\n",
    "Output in json as the following:\n",
    "{\n",
    "    \"answer\" : \"str\"\n",
    "}\n",
    "\"\"\",\n",
    "        json_format=True\n",
    "    )\n",
    "\n",
    "    answer = answer_api.get_answer(f\"\"\"\n",
    "Based in the following context respond the intial question:\n",
    "\n",
    "{context}\n",
    "\"\"\"\n",
    "    )\n",
    "\n",
    "    return answer"
   ]
  },
  {
   "cell_type": "markdown",
   "metadata": {},
   "source": [
    "### Pipeline"
   ]
  },
  {
   "cell_type": "code",
   "execution_count": 107,
   "metadata": {},
   "outputs": [],
   "source": [
    "def ReAct(query, debug=0, top_k=10):\n",
    "    tool = None\n",
    "    context = f\"Question: {query}\"\n",
    "    step = 0\n",
    "\n",
    "    if debug > 0:\n",
    "        print(f\"\\nStarting ReAct agent step {step}.\")\n",
    "    if debug > 1:\n",
    "        print(f\"\\nThe context is the following\\n----- Start of context -----\\n{context}\\n----- End of context -----\\n\")\n",
    "\n",
    "    decision_history = []\n",
    "    while tool != \"answer\":\n",
    "        step += 1\n",
    "\n",
    "        if debug > 0:\n",
    "            print(f\"\\nCalling ROUTER! Step {step}\")\n",
    "        if debug > 1:\n",
    "            print(f\"The context is the following\\n----- Start of context -----\\n{context}\\n----- End of context -----\\n\")\n",
    "\n",
    "        last_decision = decision_history[-1] if len(decision_history) else \"None\"\n",
    "        \n",
    "        router_answer = json.loads(get_next_tool(context, step, last_decision))\n",
    "        # decision_history.append(\"router\")\n",
    "        context += \"\\nThought: \" + router_answer[\"thought\"]\n",
    "        \n",
    "        if debug > 0:\n",
    "            print(f\"Router gave the following answer {router_answer}\")\n",
    "\n",
    "        step += 1\n",
    "\n",
    "        tool = router_answer[\"tool\"].lower()\n",
    "        if tool == \"search\":\n",
    "            if debug > 0:\n",
    "                print(f\"\\nCalling SEARCH! Step {step}, Query: {router_answer['query']}\")\n",
    "            if debug > 1:\n",
    "                print(f\"The context is the following\\n----- Start of context -----\\n{context}\\n----- End of context -----\\n\")\n",
    "\n",
    "            search_query = router_answer[\"query\"]\n",
    "            search_answer = get_relevant_content(search_query, top_k=top_k)\n",
    "\n",
    "            if debug > 0:\n",
    "                print(f\"Search gave the following answer {search_answer}\")\n",
    "\n",
    "            decision_history.append(\"search\")\n",
    "            context += \"\\n- Start of search results -\\n\" + search_answer + \"\\n- End of search results -\\n\"\n",
    "\n",
    "        if tool == \"think\":\n",
    "            if debug > 0:\n",
    "                print(f\"\\nCalling THINK! Step {step}\")\n",
    "            if debug > 1:\n",
    "                print(f\"The context is the following\\n----- Start of context -----\\n{context}\\n----- End of context -----\\n\")\n",
    "\n",
    "            think_answer = json.loads(think(context))\n",
    "\n",
    "            if debug > 0:\n",
    "                print(f\"Think gave the following answer {think_answer}\")\n",
    "\n",
    "            decision_history.append(\"think\")\n",
    "            context += \"\\nThink result: \" + think_answer[\"reflection\"]\n",
    "    \n",
    "    if debug > 0:\n",
    "        print(f\"\\nCalling ANSWER! Step {step}\")\n",
    "    if debug > 1:\n",
    "        print(f\"The context is the following\\n----- Start of context -----\\n{context}\\n----- End of context -----\\n\")\n",
    "\n",
    "    decision_history.append(\"answer\")\n",
    "    final_answer = json.loads(answer(context))[\"answer\"]\n",
    "\n",
    "    if debug > 0:\n",
    "        print(f\"Answer gave the following answer: {final_answer}\")\n",
    "\n",
    "    return final_answer, decision_history"
   ]
  },
  {
   "cell_type": "code",
   "execution_count": 109,
   "metadata": {},
   "outputs": [
    {
     "name": "stdout",
     "output_type": "stream",
     "text": [
      "What is Zeus know for in Greek mythology?\n",
      "sky and thunder god\n",
      "\n",
      "Starting ReAct agent step 0.\n",
      "\n",
      "Calling ROUTER! Step 1\n",
      "Router gave the following answer {'tool': 'search', 'thought': \"I'll search for information about Zeus to provide a helpful response\", 'query': 'Zeus in Greek mythology'}\n",
      "\n",
      "Calling SEARCH! Step 2, Query: Zeus in Greek mythology\n",
      "Search gave the following answer Zeus (British English , North American English ; , Zeús ) is the sky and thunder god in ancient Greek religion, who rules as king of the gods of Mount Olympus. His name is cognate with the first element of his Roman equivalent Jupiter. His mythologies and powers are similar, though not identical, to those of Indo-European deities such as Jupiter, Perkūnas, Perun, Indra and Thor. Zeus is the child of Cronus and Rhea, the youngest of his siblings to be born, though sometimes reckoned the eldest as the others required disgorging from Cronus's stomach. In most traditions, he is married to Hera, by whom he is usually said to have fathered Ares, Hebe, and Hephaestus.\n",
      "He was equated with many foreign weather gods, permitting Pausanias to observe \"That Zeus is king in heaven is a saying common to all men\". Zeus' symbols are the thunderbolt, eagle, bull, and oak. In addition to his Indo-European inheritance, the classical \"cloud-gatherer\" (Greek: , Nephelēgereta) also derives certain iconographic traits from the cultures of the ancient Near East, such as the scepter. Zeus is frequently depicted by Greek artists in one of two poses: standing, striding forward with a thunderbolt leveled in his raised right hand, or seated in majesty. Name.\n",
      "When Zeus was atop Mount Olympus he was appalled by human sacrifice and other signs of human decadence. He decided to wipe out mankind and flooded the world with the help of his brother Poseidon. After the flood, only Deucalion and Pyrrha remained. This flood narrative is a common motif in mythology. Throughout history Zeus has been depicted as using violence to get his way and terrorize humans.\n",
      "Scenes in which Zeus appears include:\n",
      "\n",
      "- Book 2: Zeus sends Agamemnon a dream and is able to partially control his decisions because of the effects of the dream\n",
      "- Book 4: Zeus promises Hera to ultimately destroy the City of Troy at the end of the war\n",
      "- Book 7: Zeus and Poseidon ruin the Achaeans fortress\n",
      "- Book 8: Zeus prohibits the other Gods from fighting each other and has to return to Mount Ida where he can think over his decision that the Greeks will lose the war\n",
      "- Book 14: Zeus is seduced by Hera and becomes distracted while she helps out the Greeks\n",
      "- Book 15: Zeus wakes up and realizes that Poseidon his own brother has been helping out the Greeks, while also sending Hector and Apollo to help fight the Trojans ensuring that the City of Troy will fall\n",
      "- Book 16: Zeus is upset that he couldn't help save Sarpedon's life because it would then contradict his previous decisions\n",
      "- Book 17: Zeus is emotionally hurt by the fate of Hector\n",
      "- Book 20: Zeus lets the other Gods help out their respective sides in the war\n",
      "- Book 24: Zeus demands that Achilles release the corpse of Hector to be buried honourably\n",
      "\n",
      "List of other deeds.- Zeus granted Callirrhoe's prayer that her sons by Alcmaeon, Acarnan and Amphoterus, grow quickly so that they might be able to avenger the death of their father by the hands of Phegeus and his two sons. - He unsuccessfully wooed Thetis, daughter of Nereus. Zeus and Hera. Zeus was brother and consort of Hera. By Hera, Zeus sired Ares, Hebe and Hephaestus, though some accounts say that Hera produced these offspring alone.\n",
      "Since lightning is quite powerful and sometimes deadly, it is a bold sign when lightning strikes because it is known that Zeus most likely threw the bolt. In the Iliad. The Iliad is a poem by Homer about the Trojan war and the battle over the City of Troy, in which Zeus plays a major part. Scenes in which Zeus appears include:\n",
      "\n",
      "- Book 2: Zeus sends Agamemnon a dream and is able to partially control his decisions because of the effects of the dream\n",
      "- Book 4: Zeus promises Hera to ultimately destroy the City of Troy at the end of the war\n",
      "- Book 7: Zeus and Poseidon ruin the Achaeans fortress\n",
      "- Book 8: Zeus prohibits the other Gods from fighting each other and has to return to Mount Ida where he can think over his decision that the Greeks will lose the war\n",
      "- Book 14: Zeus is seduced by Hera and becomes distracted while she helps out the Greeks\n",
      "- Book 15: Zeus wakes up and realizes that Poseidon his own brother has been helping out the Greeks, while also sending Hector and Apollo to help fight the Trojans ensuring that the City of Troy will fall\n",
      "- Book 16: Zeus is upset that he couldn't help save Sarpedon's life because it would then contradict his previous decisions\n",
      "- Book 17: Zeus is emotionally hurt by the fate of Hector\n",
      "- Book 20: Zeus lets the other Gods help out their respective sides in the war\n",
      "- Book 24: Zeus demands that Achilles release the corpse of Hector to be buried honourably\n",
      "\n",
      "List of other deeds.- Zeus granted Callirrhoe's prayer that her sons by Alcmaeon, Acarnan and Amphoterus, grow quickly so that they might be able to avenger the death of their father by the hands of Phegeus and his two sons. - He unsuccessfully wooed Thetis, daughter of Nereus.\n",
      "Greek mythology is the body of myths originally told by the ancient Greeks and a genre of Ancient Greek folklore. These stories concern the origin and the nature of the world, the lives and activities of deities, heroes, and mythological creatures, and the origins and significance of the ancient Greeks' own cult and ritual practices. Modern scholars study the myths in an attempt to shed light on the religious and political institutions of ancient Greece and its civilization, and to gain understanding of the nature of myth-making itself. The Greek myths were initially propagated in an oral-poetic tradition most likely by Minoan and Mycenaean singers starting in the 18th century BC; eventually the myths of the heroes of the Trojan War and its aftermath became part of the oral tradition of Homer's epic poems, the Iliad and the Odyssey. Two poems by Homer's near contemporary Hesiod, the Theogony and the Works and Days, contain accounts of the genesis of the world, the succession of divine rulers, the succession of human ages, the origin of human woes, and the origin of sacrificial practices.\n",
      "Greek mythology has had an extensive influence on the culture, arts, and literature of Western civilization and remains part of Western heritage and language. Poets and artists from ancient times to the present have derived inspiration from Greek mythology and have discovered contemporary significance and relevance in the themes. Sources. Greek mythology is known today primarily from Greek literature and representations on visual media dating from the Geometric period from to onward. In fact, literary and archaeological sources integrate, sometimes mutually supportive and sometimes in conflict; however, in many cases, the existence of this corpus of data is a strong indication that many elements of Greek mythology have strong factual and historical roots.\n",
      "In some cases, the first known representation of a myth in geometric art predates its first known representation in late archaic poetry, by several centuries. In the Archaic (), Classical (–323 BC), and Hellenistic (323–146 BC) periods, Homeric and various other mythological scenes appear, supplementing the existing literary evidence. Survey of mythic history. Greek mythology has changed over time to accommodate the evolution of their culture, of which mythology, both overtly and in its unspoken assumptions, is an index of the changes. In Greek mythology's surviving literary forms, as found mostly at the end of the progressive changes, it is inherently political, as Gilbert Cuthbertson has argued.\n",
      "Hesiod, a possible contemporary with Homer, offers in his  Theogony  (Origin of the Gods) the fullest account of the earliest Greek myths, dealing with the creation of the world; the origin of the gods, Titans, and Giants; as well as elaborate genealogies, folktales, and etiological myths. Hesiod's Works and Days, a didactic poem about farming life, also includes the myths of Prometheus, Pandora, and the Five Ages. The poet gives advice on the best way to succeed in a dangerous world, rendered yet more dangerous by its gods. Lyrical poets often took their subjects from myth, but their treatment became gradually less narrative and more allusive. Greek lyric poets, including Pindar, Bacchylides and Simonides, and bucolic poets such as Theocritus and Bion, relate individual mythological incidents.\n",
      "The god is known under this name in the Rigveda (Vedic Sanskrit Dyaus/Dyaus Pita), Latin (compare Jupiter, from Iuppiter, deriving from the Proto-Indo-European vocative *'), deriving from the root *dyeu- (\"to shine\", and in its many derivatives, \"sky, heaven, god\"). Zeus is the only deity in the Olympic pantheon whose name has such a transparent Indo-European etymology. The earliest attested forms of the name are the Mycenaean Greek , di-we and , di-wo, written in the Linear B syllabic script. Plato, in his Cratylus, gives a folk etymology of Zeus meaning \"cause of life always to all things,\" because of puns between alternate titles of Zeus (Zen and Dia) with the Greek words for life and \"because of.\" This etymology, along with Plato's entire method of deriving etymologies, is not supported by modern scholarship.\n",
      "\n",
      "\n",
      "Calling ROUTER! Step 3\n",
      "Router gave the following answer {'tool': 'think', 'thought': 'Reflect on the search results to organize the information and decide the next step', 'query': ''}\n",
      "\n",
      "Calling THINK! Step 4\n",
      "Think gave the following answer {'reflection': \"Zeus, the king of the gods in Greek mythology, is known for his powers as a sky and thunder god, as well as his many mythological deeds. With his iconic symbols of the thunderbolt, eagle, bull, and oak, Zeus is often depicted as a powerful and authoritative figure. His many actions in Homer's Iliad, including controlling the outcome of the Trojan War and exhibiting both violent and emotional behavior, showcase his complex and multifaceted character. As a central figure in Greek mythology, Zeus' influence extends beyond mythology to Western culture and literature, making him a significant and enduring figure in human history.\"}\n",
      "\n",
      "Calling ROUTER! Step 5\n",
      "Router gave the following answer {'tool': 'think', 'thought': 'Reflect on the search results to organize the information and decide the next step', 'query': ''}\n",
      "\n",
      "Calling THINK! Step 6\n",
      "Think gave the following answer {'reflection': 'Zeus, the king of the gods in Greek mythology, is a complex and multifaceted figure, known for his powers as a sky and thunder god, iconic symbols, and many mythological deeds, showcasing his complex character and significant influence on Western culture and literature.'}\n",
      "\n",
      "Calling ROUTER! Step 7\n",
      "Router gave the following answer {'tool': 'answer', 'thought': \"I've organized the information and now I'm ready to answer the question\", 'query': ''}\n",
      "\n",
      "Calling ANSWER! Step 8\n",
      "Answer gave the following answer: Zeus is known for being the king of the gods in Greek mythology, with powers as a sky and thunder god, iconic symbols, and many mythological deeds.\n",
      "Zeus is known for being the king of the gods in Greek mythology, with powers as a sky and thunder god, iconic symbols, and many mythological deeds.\n",
      "['search', 'think', 'think', 'answer']\n"
     ]
    }
   ],
   "source": [
    "sample_question = questions_list[0][\"question\"]\n",
    "sample_answer = questions_list[0][\"answer\"]\n",
    "print(sample_question, sample_answer, sep='\\n')\n",
    "_answer, _history = ReAct(sample_question, debug=1, top_k=5)\n",
    "print(_answer, _history, sep='\\n')"
   ]
  }
 ],
 "metadata": {
  "kernelspec": {
   "display_name": "Python 3 (ipykernel)",
   "language": "python",
   "name": "python3"
  },
  "language_info": {
   "codemirror_mode": {
    "name": "ipython",
    "version": 3
   },
   "file_extension": ".py",
   "mimetype": "text/x-python",
   "name": "python",
   "nbconvert_exporter": "python",
   "pygments_lexer": "ipython3",
   "version": "3.10.12"
  }
 },
 "nbformat": 4,
 "nbformat_minor": 4
}
